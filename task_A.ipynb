{
 "cells": [
  {
   "cell_type": "code",
   "execution_count": 1,
   "metadata": {},
   "outputs": [],
   "source": [
    "import pandas as pd\n",
    "import numpy as np\n",
    "import matplotlib.pyplot as plt\n",
    "import seaborn as sns"
   ]
  },
  {
   "cell_type": "code",
   "execution_count": 2,
   "metadata": {},
   "outputs": [
    {
     "name": "stderr",
     "output_type": "stream",
     "text": [
      "c:\\program files\\python36\\lib\\site-packages\\IPython\\core\\interactiveshell.py:3063: DtypeWarning: Columns (12,13,16,17) have mixed types.Specify dtype option on import or set low_memory=False.\n",
      "  interactivity=interactivity, compiler=compiler, result=result)\n"
     ]
    }
   ],
   "source": [
    "data = pd.read_csv('./FakeNamesUK4.csv', sep=',')"
   ]
  },
  {
   "cell_type": "code",
   "execution_count": 3,
   "metadata": {},
   "outputs": [
    {
     "data": {
      "text/plain": [
       "Index(['Number', 'Gender', 'Title', 'Name'', ''Name', 'Address', 'City',\n",
       "       'Country', 'ZipCode', 'EmailAddress', 'Username', 'Password',\n",
       "       'Birthday', 'CCType', 'CCNumber', 'CVV2', 'CCExpires', 'BloodType',\n",
       "       'Kilograms', 'Centimeters'],\n",
       "      dtype='object')"
      ]
     },
     "execution_count": 3,
     "metadata": {},
     "output_type": "execute_result"
    }
   ],
   "source": [
    "data.columns"
   ]
  },
  {
   "cell_type": "code",
   "execution_count": 4,
   "metadata": {},
   "outputs": [],
   "source": [
    "col = ['Number', 'Gender', 'Title', 'Name', 'Surname', 'Address','ZipCode', 'EmailAddress', 'Username', 'Password',\n",
    "       'Birthday', 'CCType', 'CCNumber', 'CVV2', 'CCExpires', 'BloodType',\n",
    "       'Kilograms', 'Centimeters','City',\n",
    "       'Country',]"
   ]
  },
  {
   "cell_type": "code",
   "execution_count": 5,
   "metadata": {},
   "outputs": [],
   "source": [
    "data.columns = col"
   ]
  },
  {
   "cell_type": "code",
   "execution_count": 6,
   "metadata": {},
   "outputs": [],
   "source": [
    "del data['City']\n",
    "del data['Country']"
   ]
  },
  {
   "cell_type": "code",
   "execution_count": 7,
   "metadata": {},
   "outputs": [
    {
     "data": {
      "text/html": [
       "<div>\n",
       "<style scoped>\n",
       "    .dataframe tbody tr th:only-of-type {\n",
       "        vertical-align: middle;\n",
       "    }\n",
       "\n",
       "    .dataframe tbody tr th {\n",
       "        vertical-align: top;\n",
       "    }\n",
       "\n",
       "    .dataframe thead th {\n",
       "        text-align: right;\n",
       "    }\n",
       "</style>\n",
       "<table border=\"1\" class=\"dataframe\">\n",
       "  <thead>\n",
       "    <tr style=\"text-align: right;\">\n",
       "      <th></th>\n",
       "      <th>Number</th>\n",
       "      <th>Gender</th>\n",
       "      <th>Title</th>\n",
       "      <th>Name</th>\n",
       "      <th>Surname</th>\n",
       "      <th>Address</th>\n",
       "      <th>ZipCode</th>\n",
       "      <th>EmailAddress</th>\n",
       "      <th>Username</th>\n",
       "      <th>Password</th>\n",
       "      <th>Birthday</th>\n",
       "      <th>CCType</th>\n",
       "      <th>CCNumber</th>\n",
       "      <th>CVV2</th>\n",
       "      <th>CCExpires</th>\n",
       "      <th>BloodType</th>\n",
       "      <th>Kilograms</th>\n",
       "      <th>Centimeters</th>\n",
       "    </tr>\n",
       "  </thead>\n",
       "  <tbody>\n",
       "    <tr>\n",
       "      <th>0</th>\n",
       "      <td>1.0</td>\n",
       "      <td>male</td>\n",
       "      <td>Mr.</td>\n",
       "      <td>Dewei</td>\n",
       "      <td>Tuan</td>\n",
       "      <td>42 Main Rd, FOEL, UK</td>\n",
       "      <td>SY21 3FF</td>\n",
       "      <td>DeweiTuan@fleckens.hu</td>\n",
       "      <td>Piten1973</td>\n",
       "      <td>ohSooZ2d</td>\n",
       "      <td>7/31/1973</td>\n",
       "      <td>MasterCard</td>\n",
       "      <td>5371472825372403</td>\n",
       "      <td>919</td>\n",
       "      <td>9/2019</td>\n",
       "      <td>B+</td>\n",
       "      <td>89.6</td>\n",
       "      <td>183</td>\n",
       "    </tr>\n",
       "    <tr>\n",
       "      <th>1</th>\n",
       "      <td>2.0</td>\n",
       "      <td>female</td>\n",
       "      <td>Ms.</td>\n",
       "      <td>Natasha</td>\n",
       "      <td>Watts</td>\n",
       "      <td>46 Coast Rd, KIRKPATRICK-FLEMING, UK</td>\n",
       "      <td>DG11 2HN</td>\n",
       "      <td>NatashaWatts@jourrapide.com</td>\n",
       "      <td>Fultank</td>\n",
       "      <td>Neey0ko8</td>\n",
       "      <td>10/30/1934</td>\n",
       "      <td>Visa</td>\n",
       "      <td>4716753125322116</td>\n",
       "      <td>677</td>\n",
       "      <td>3/2017</td>\n",
       "      <td>B+</td>\n",
       "      <td>52.4</td>\n",
       "      <td>170</td>\n",
       "    </tr>\n",
       "    <tr>\n",
       "      <th>2</th>\n",
       "      <td>3.0</td>\n",
       "      <td>female</td>\n",
       "      <td>Mrs.</td>\n",
       "      <td>Qing Yuan</td>\n",
       "      <td>Ch'ien</td>\n",
       "      <td>3 Friar Street, CLAWDD-NEWYDD, UK</td>\n",
       "      <td>LL15 0SQ</td>\n",
       "      <td>QingYuanChien@rhyta.com</td>\n",
       "      <td>Diater</td>\n",
       "      <td>Iemah8too</td>\n",
       "      <td>6/8/1981</td>\n",
       "      <td>Visa</td>\n",
       "      <td>4485122099933788</td>\n",
       "      <td>895</td>\n",
       "      <td>5/2016</td>\n",
       "      <td>AB+</td>\n",
       "      <td>91.0</td>\n",
       "      <td>158</td>\n",
       "    </tr>\n",
       "    <tr>\n",
       "      <th>3</th>\n",
       "      <td>4.0</td>\n",
       "      <td>male</td>\n",
       "      <td>Mr.</td>\n",
       "      <td>Nathan</td>\n",
       "      <td>Bykov</td>\n",
       "      <td>79 Abbey Row, NORTON BRIDGE, UK</td>\n",
       "      <td>ST15 3JF</td>\n",
       "      <td>NathanBykov@einrot.com</td>\n",
       "      <td>Cougge</td>\n",
       "      <td>cieMa8chai8!</td>\n",
       "      <td>10/23/1979</td>\n",
       "      <td>Visa</td>\n",
       "      <td>4532644318841479</td>\n",
       "      <td>295</td>\n",
       "      <td>5/2018</td>\n",
       "      <td>O+</td>\n",
       "      <td>110.4</td>\n",
       "      <td>187</td>\n",
       "    </tr>\n",
       "    <tr>\n",
       "      <th>4</th>\n",
       "      <td>5.0</td>\n",
       "      <td>female</td>\n",
       "      <td>Mrs.</td>\n",
       "      <td>Hua</td>\n",
       "      <td>Han</td>\n",
       "      <td>37 Shire Oak Road, SAXTHORPE, UK</td>\n",
       "      <td>NR11 4WE</td>\n",
       "      <td>HuaHan@superrito.com</td>\n",
       "      <td>Priese</td>\n",
       "      <td>ad6ir0Leich</td>\n",
       "      <td>12/19/1943</td>\n",
       "      <td>Visa</td>\n",
       "      <td>4485599386962523</td>\n",
       "      <td>711</td>\n",
       "      <td>3/2017</td>\n",
       "      <td>B+</td>\n",
       "      <td>84.1</td>\n",
       "      <td>155</td>\n",
       "    </tr>\n",
       "    <tr>\n",
       "      <th>...</th>\n",
       "      <td>...</td>\n",
       "      <td>...</td>\n",
       "      <td>...</td>\n",
       "      <td>...</td>\n",
       "      <td>...</td>\n",
       "      <td>...</td>\n",
       "      <td>...</td>\n",
       "      <td>...</td>\n",
       "      <td>...</td>\n",
       "      <td>...</td>\n",
       "      <td>...</td>\n",
       "      <td>...</td>\n",
       "      <td>...</td>\n",
       "      <td>...</td>\n",
       "      <td>...</td>\n",
       "      <td>...</td>\n",
       "      <td>...</td>\n",
       "      <td>...</td>\n",
       "    </tr>\n",
       "    <tr>\n",
       "      <th>99991</th>\n",
       "      <td>99996.0</td>\n",
       "      <td>male</td>\n",
       "      <td>Mr.</td>\n",
       "      <td>Hsin</td>\n",
       "      <td>Chiang</td>\n",
       "      <td>85 Pier Road, STANTON BY BRIDGE, UK</td>\n",
       "      <td>DE73 2DW</td>\n",
       "      <td>HsinChiang@fleckens.hu</td>\n",
       "      <td>Spersen</td>\n",
       "      <td>zoo9jiy8ohTh</td>\n",
       "      <td>3/11/1946</td>\n",
       "      <td>Visa</td>\n",
       "      <td>4485971302727449</td>\n",
       "      <td>929</td>\n",
       "      <td>3/2016</td>\n",
       "      <td>A+</td>\n",
       "      <td>63.8</td>\n",
       "      <td>172</td>\n",
       "    </tr>\n",
       "    <tr>\n",
       "      <th>99992</th>\n",
       "      <td>99997.0</td>\n",
       "      <td>female</td>\n",
       "      <td>Ms.</td>\n",
       "      <td>Cai</td>\n",
       "      <td>Hs?eh</td>\n",
       "      <td>55 Overton Circle, LITTLE-DEAN, UK</td>\n",
       "      <td>GL14 6TG</td>\n",
       "      <td>CaiHsueh@fleckens.hu</td>\n",
       "      <td>Pronce</td>\n",
       "      <td>ACh5eoreer8</td>\n",
       "      <td>7/10/1986</td>\n",
       "      <td>Visa</td>\n",
       "      <td>4485866305481020</td>\n",
       "      <td>640</td>\n",
       "      <td>7/2017</td>\n",
       "      <td>O-</td>\n",
       "      <td>84.9</td>\n",
       "      <td>157</td>\n",
       "    </tr>\n",
       "    <tr>\n",
       "      <th>99993</th>\n",
       "      <td>99998.0</td>\n",
       "      <td>male</td>\n",
       "      <td>Mr.</td>\n",
       "      <td>Finlay</td>\n",
       "      <td>Storey</td>\n",
       "      <td>13 Main St, ACHNACLOICH, UK</td>\n",
       "      <td>PA37 6NG</td>\n",
       "      <td>FinlayStorey@armyspy.com</td>\n",
       "      <td>Foreme1963</td>\n",
       "      <td>haiPhees1k</td>\n",
       "      <td>10/2/1963</td>\n",
       "      <td>MasterCard</td>\n",
       "      <td>5178156818415783</td>\n",
       "      <td>595</td>\n",
       "      <td>4/2019</td>\n",
       "      <td>O+</td>\n",
       "      <td>115.6</td>\n",
       "      <td>176</td>\n",
       "    </tr>\n",
       "    <tr>\n",
       "      <th>99994</th>\n",
       "      <td>99999.0</td>\n",
       "      <td>female</td>\n",
       "      <td>Mrs.</td>\n",
       "      <td>Qing Yuan</td>\n",
       "      <td>Yao</td>\n",
       "      <td>52 Abbey Row, NUP END, UK</td>\n",
       "      <td>HP22 7PJ</td>\n",
       "      <td>QingYuanYao@cuvox.de</td>\n",
       "      <td>Mants1929</td>\n",
       "      <td>juw7DesieKa</td>\n",
       "      <td>11/24/1929</td>\n",
       "      <td>Visa</td>\n",
       "      <td>4485148899899473</td>\n",
       "      <td>429</td>\n",
       "      <td>8/2019</td>\n",
       "      <td>O+</td>\n",
       "      <td>51.9</td>\n",
       "      <td>158</td>\n",
       "    </tr>\n",
       "    <tr>\n",
       "      <th>99995</th>\n",
       "      <td>100000.0</td>\n",
       "      <td>male</td>\n",
       "      <td>Mr.</td>\n",
       "      <td>Wei</td>\n",
       "      <td>Ch'in</td>\n",
       "      <td>35 Walden Road, GREAT WARLEY, UK</td>\n",
       "      <td>CM13 2BU</td>\n",
       "      <td>WeiChin@fleckens.hu</td>\n",
       "      <td>Hatmarat69</td>\n",
       "      <td>EeYah4eeLah</td>\n",
       "      <td>4/21/1969</td>\n",
       "      <td>MasterCard</td>\n",
       "      <td>5458415141708657</td>\n",
       "      <td>311</td>\n",
       "      <td>3/2016</td>\n",
       "      <td>O+</td>\n",
       "      <td>132.8</td>\n",
       "      <td>184</td>\n",
       "    </tr>\n",
       "  </tbody>\n",
       "</table>\n",
       "<p>99996 rows × 18 columns</p>\n",
       "</div>"
      ],
      "text/plain": [
       "         Number  Gender Title       Name Surname  \\\n",
       "0           1.0    male   Mr.      Dewei    Tuan   \n",
       "1           2.0  female   Ms.    Natasha   Watts   \n",
       "2           3.0  female  Mrs.  Qing Yuan  Ch'ien   \n",
       "3           4.0    male   Mr.     Nathan   Bykov   \n",
       "4           5.0  female  Mrs.        Hua     Han   \n",
       "...         ...     ...   ...        ...     ...   \n",
       "99991   99996.0    male   Mr.       Hsin  Chiang   \n",
       "99992   99997.0  female   Ms.        Cai   Hs?eh   \n",
       "99993   99998.0    male   Mr.     Finlay  Storey   \n",
       "99994   99999.0  female  Mrs.  Qing Yuan     Yao   \n",
       "99995  100000.0    male   Mr.        Wei   Ch'in   \n",
       "\n",
       "                                     Address   ZipCode  \\\n",
       "0                      42 Main Rd, FOEL, UK   SY21 3FF   \n",
       "1      46 Coast Rd, KIRKPATRICK-FLEMING, UK   DG11 2HN   \n",
       "2         3 Friar Street, CLAWDD-NEWYDD, UK   LL15 0SQ   \n",
       "3           79 Abbey Row, NORTON BRIDGE, UK   ST15 3JF   \n",
       "4          37 Shire Oak Road, SAXTHORPE, UK   NR11 4WE   \n",
       "...                                      ...       ...   \n",
       "99991   85 Pier Road, STANTON BY BRIDGE, UK   DE73 2DW   \n",
       "99992    55 Overton Circle, LITTLE-DEAN, UK   GL14 6TG   \n",
       "99993           13 Main St, ACHNACLOICH, UK   PA37 6NG   \n",
       "99994             52 Abbey Row, NUP END, UK   HP22 7PJ   \n",
       "99995      35 Walden Road, GREAT WARLEY, UK   CM13 2BU   \n",
       "\n",
       "                      EmailAddress    Username      Password    Birthday  \\\n",
       "0            DeweiTuan@fleckens.hu   Piten1973      ohSooZ2d   7/31/1973   \n",
       "1      NatashaWatts@jourrapide.com     Fultank      Neey0ko8  10/30/1934   \n",
       "2          QingYuanChien@rhyta.com      Diater     Iemah8too    6/8/1981   \n",
       "3           NathanBykov@einrot.com      Cougge  cieMa8chai8!  10/23/1979   \n",
       "4             HuaHan@superrito.com      Priese   ad6ir0Leich  12/19/1943   \n",
       "...                            ...         ...           ...         ...   \n",
       "99991       HsinChiang@fleckens.hu     Spersen  zoo9jiy8ohTh   3/11/1946   \n",
       "99992         CaiHsueh@fleckens.hu      Pronce   ACh5eoreer8   7/10/1986   \n",
       "99993     FinlayStorey@armyspy.com  Foreme1963    haiPhees1k   10/2/1963   \n",
       "99994         QingYuanYao@cuvox.de   Mants1929   juw7DesieKa  11/24/1929   \n",
       "99995          WeiChin@fleckens.hu  Hatmarat69   EeYah4eeLah   4/21/1969   \n",
       "\n",
       "           CCType          CCNumber CVV2 CCExpires BloodType Kilograms  \\\n",
       "0      MasterCard  5371472825372403  919    9/2019        B+      89.6   \n",
       "1            Visa  4716753125322116  677    3/2017        B+      52.4   \n",
       "2            Visa  4485122099933788  895    5/2016       AB+      91.0   \n",
       "3            Visa  4532644318841479  295    5/2018        O+     110.4   \n",
       "4            Visa  4485599386962523  711    3/2017        B+      84.1   \n",
       "...           ...               ...  ...       ...       ...       ...   \n",
       "99991        Visa  4485971302727449  929    3/2016        A+      63.8   \n",
       "99992        Visa  4485866305481020  640    7/2017        O-      84.9   \n",
       "99993  MasterCard  5178156818415783  595    4/2019        O+     115.6   \n",
       "99994        Visa  4485148899899473  429    8/2019        O+      51.9   \n",
       "99995  MasterCard  5458415141708657  311    3/2016        O+     132.8   \n",
       "\n",
       "      Centimeters  \n",
       "0             183  \n",
       "1             170  \n",
       "2             158  \n",
       "3             187  \n",
       "4             155  \n",
       "...           ...  \n",
       "99991         172  \n",
       "99992         157  \n",
       "99993         176  \n",
       "99994         158  \n",
       "99995         184  \n",
       "\n",
       "[99996 rows x 18 columns]"
      ]
     },
     "execution_count": 7,
     "metadata": {},
     "output_type": "execute_result"
    }
   ],
   "source": [
    "data"
   ]
  },
  {
   "cell_type": "markdown",
   "metadata": {},
   "source": [
    "Joining the Respective Names columns for effective analysis than working with the names seperately"
   ]
  },
  {
   "cell_type": "code",
   "execution_count": 8,
   "metadata": {},
   "outputs": [],
   "source": [
    "data['Name'] = data['Name']+' '+data['Surname']"
   ]
  },
  {
   "cell_type": "code",
   "execution_count": 9,
   "metadata": {},
   "outputs": [],
   "source": [
    "del data['Surname']"
   ]
  },
  {
   "cell_type": "code",
   "execution_count": 10,
   "metadata": {},
   "outputs": [
    {
     "data": {
      "text/html": [
       "<div>\n",
       "<style scoped>\n",
       "    .dataframe tbody tr th:only-of-type {\n",
       "        vertical-align: middle;\n",
       "    }\n",
       "\n",
       "    .dataframe tbody tr th {\n",
       "        vertical-align: top;\n",
       "    }\n",
       "\n",
       "    .dataframe thead th {\n",
       "        text-align: right;\n",
       "    }\n",
       "</style>\n",
       "<table border=\"1\" class=\"dataframe\">\n",
       "  <thead>\n",
       "    <tr style=\"text-align: right;\">\n",
       "      <th></th>\n",
       "      <th>Number</th>\n",
       "      <th>Gender</th>\n",
       "      <th>Title</th>\n",
       "      <th>Name</th>\n",
       "      <th>Address</th>\n",
       "      <th>ZipCode</th>\n",
       "      <th>EmailAddress</th>\n",
       "      <th>Username</th>\n",
       "      <th>Password</th>\n",
       "      <th>Birthday</th>\n",
       "      <th>CCType</th>\n",
       "      <th>CCNumber</th>\n",
       "      <th>CVV2</th>\n",
       "      <th>CCExpires</th>\n",
       "      <th>BloodType</th>\n",
       "      <th>Kilograms</th>\n",
       "      <th>Centimeters</th>\n",
       "    </tr>\n",
       "  </thead>\n",
       "  <tbody>\n",
       "    <tr>\n",
       "      <th>0</th>\n",
       "      <td>1.0</td>\n",
       "      <td>male</td>\n",
       "      <td>Mr.</td>\n",
       "      <td>Dewei Tuan</td>\n",
       "      <td>42 Main Rd, FOEL, UK</td>\n",
       "      <td>SY21 3FF</td>\n",
       "      <td>DeweiTuan@fleckens.hu</td>\n",
       "      <td>Piten1973</td>\n",
       "      <td>ohSooZ2d</td>\n",
       "      <td>7/31/1973</td>\n",
       "      <td>MasterCard</td>\n",
       "      <td>5371472825372403</td>\n",
       "      <td>919</td>\n",
       "      <td>9/2019</td>\n",
       "      <td>B+</td>\n",
       "      <td>89.6</td>\n",
       "      <td>183</td>\n",
       "    </tr>\n",
       "    <tr>\n",
       "      <th>1</th>\n",
       "      <td>2.0</td>\n",
       "      <td>female</td>\n",
       "      <td>Ms.</td>\n",
       "      <td>Natasha Watts</td>\n",
       "      <td>46 Coast Rd, KIRKPATRICK-FLEMING, UK</td>\n",
       "      <td>DG11 2HN</td>\n",
       "      <td>NatashaWatts@jourrapide.com</td>\n",
       "      <td>Fultank</td>\n",
       "      <td>Neey0ko8</td>\n",
       "      <td>10/30/1934</td>\n",
       "      <td>Visa</td>\n",
       "      <td>4716753125322116</td>\n",
       "      <td>677</td>\n",
       "      <td>3/2017</td>\n",
       "      <td>B+</td>\n",
       "      <td>52.4</td>\n",
       "      <td>170</td>\n",
       "    </tr>\n",
       "    <tr>\n",
       "      <th>2</th>\n",
       "      <td>3.0</td>\n",
       "      <td>female</td>\n",
       "      <td>Mrs.</td>\n",
       "      <td>Qing Yuan Ch'ien</td>\n",
       "      <td>3 Friar Street, CLAWDD-NEWYDD, UK</td>\n",
       "      <td>LL15 0SQ</td>\n",
       "      <td>QingYuanChien@rhyta.com</td>\n",
       "      <td>Diater</td>\n",
       "      <td>Iemah8too</td>\n",
       "      <td>6/8/1981</td>\n",
       "      <td>Visa</td>\n",
       "      <td>4485122099933788</td>\n",
       "      <td>895</td>\n",
       "      <td>5/2016</td>\n",
       "      <td>AB+</td>\n",
       "      <td>91.0</td>\n",
       "      <td>158</td>\n",
       "    </tr>\n",
       "    <tr>\n",
       "      <th>3</th>\n",
       "      <td>4.0</td>\n",
       "      <td>male</td>\n",
       "      <td>Mr.</td>\n",
       "      <td>Nathan Bykov</td>\n",
       "      <td>79 Abbey Row, NORTON BRIDGE, UK</td>\n",
       "      <td>ST15 3JF</td>\n",
       "      <td>NathanBykov@einrot.com</td>\n",
       "      <td>Cougge</td>\n",
       "      <td>cieMa8chai8!</td>\n",
       "      <td>10/23/1979</td>\n",
       "      <td>Visa</td>\n",
       "      <td>4532644318841479</td>\n",
       "      <td>295</td>\n",
       "      <td>5/2018</td>\n",
       "      <td>O+</td>\n",
       "      <td>110.4</td>\n",
       "      <td>187</td>\n",
       "    </tr>\n",
       "    <tr>\n",
       "      <th>4</th>\n",
       "      <td>5.0</td>\n",
       "      <td>female</td>\n",
       "      <td>Mrs.</td>\n",
       "      <td>Hua Han</td>\n",
       "      <td>37 Shire Oak Road, SAXTHORPE, UK</td>\n",
       "      <td>NR11 4WE</td>\n",
       "      <td>HuaHan@superrito.com</td>\n",
       "      <td>Priese</td>\n",
       "      <td>ad6ir0Leich</td>\n",
       "      <td>12/19/1943</td>\n",
       "      <td>Visa</td>\n",
       "      <td>4485599386962523</td>\n",
       "      <td>711</td>\n",
       "      <td>3/2017</td>\n",
       "      <td>B+</td>\n",
       "      <td>84.1</td>\n",
       "      <td>155</td>\n",
       "    </tr>\n",
       "    <tr>\n",
       "      <th>...</th>\n",
       "      <td>...</td>\n",
       "      <td>...</td>\n",
       "      <td>...</td>\n",
       "      <td>...</td>\n",
       "      <td>...</td>\n",
       "      <td>...</td>\n",
       "      <td>...</td>\n",
       "      <td>...</td>\n",
       "      <td>...</td>\n",
       "      <td>...</td>\n",
       "      <td>...</td>\n",
       "      <td>...</td>\n",
       "      <td>...</td>\n",
       "      <td>...</td>\n",
       "      <td>...</td>\n",
       "      <td>...</td>\n",
       "      <td>...</td>\n",
       "    </tr>\n",
       "    <tr>\n",
       "      <th>99991</th>\n",
       "      <td>99996.0</td>\n",
       "      <td>male</td>\n",
       "      <td>Mr.</td>\n",
       "      <td>Hsin Chiang</td>\n",
       "      <td>85 Pier Road, STANTON BY BRIDGE, UK</td>\n",
       "      <td>DE73 2DW</td>\n",
       "      <td>HsinChiang@fleckens.hu</td>\n",
       "      <td>Spersen</td>\n",
       "      <td>zoo9jiy8ohTh</td>\n",
       "      <td>3/11/1946</td>\n",
       "      <td>Visa</td>\n",
       "      <td>4485971302727449</td>\n",
       "      <td>929</td>\n",
       "      <td>3/2016</td>\n",
       "      <td>A+</td>\n",
       "      <td>63.8</td>\n",
       "      <td>172</td>\n",
       "    </tr>\n",
       "    <tr>\n",
       "      <th>99992</th>\n",
       "      <td>99997.0</td>\n",
       "      <td>female</td>\n",
       "      <td>Ms.</td>\n",
       "      <td>Cai Hs?eh</td>\n",
       "      <td>55 Overton Circle, LITTLE-DEAN, UK</td>\n",
       "      <td>GL14 6TG</td>\n",
       "      <td>CaiHsueh@fleckens.hu</td>\n",
       "      <td>Pronce</td>\n",
       "      <td>ACh5eoreer8</td>\n",
       "      <td>7/10/1986</td>\n",
       "      <td>Visa</td>\n",
       "      <td>4485866305481020</td>\n",
       "      <td>640</td>\n",
       "      <td>7/2017</td>\n",
       "      <td>O-</td>\n",
       "      <td>84.9</td>\n",
       "      <td>157</td>\n",
       "    </tr>\n",
       "    <tr>\n",
       "      <th>99993</th>\n",
       "      <td>99998.0</td>\n",
       "      <td>male</td>\n",
       "      <td>Mr.</td>\n",
       "      <td>Finlay Storey</td>\n",
       "      <td>13 Main St, ACHNACLOICH, UK</td>\n",
       "      <td>PA37 6NG</td>\n",
       "      <td>FinlayStorey@armyspy.com</td>\n",
       "      <td>Foreme1963</td>\n",
       "      <td>haiPhees1k</td>\n",
       "      <td>10/2/1963</td>\n",
       "      <td>MasterCard</td>\n",
       "      <td>5178156818415783</td>\n",
       "      <td>595</td>\n",
       "      <td>4/2019</td>\n",
       "      <td>O+</td>\n",
       "      <td>115.6</td>\n",
       "      <td>176</td>\n",
       "    </tr>\n",
       "    <tr>\n",
       "      <th>99994</th>\n",
       "      <td>99999.0</td>\n",
       "      <td>female</td>\n",
       "      <td>Mrs.</td>\n",
       "      <td>Qing Yuan Yao</td>\n",
       "      <td>52 Abbey Row, NUP END, UK</td>\n",
       "      <td>HP22 7PJ</td>\n",
       "      <td>QingYuanYao@cuvox.de</td>\n",
       "      <td>Mants1929</td>\n",
       "      <td>juw7DesieKa</td>\n",
       "      <td>11/24/1929</td>\n",
       "      <td>Visa</td>\n",
       "      <td>4485148899899473</td>\n",
       "      <td>429</td>\n",
       "      <td>8/2019</td>\n",
       "      <td>O+</td>\n",
       "      <td>51.9</td>\n",
       "      <td>158</td>\n",
       "    </tr>\n",
       "    <tr>\n",
       "      <th>99995</th>\n",
       "      <td>100000.0</td>\n",
       "      <td>male</td>\n",
       "      <td>Mr.</td>\n",
       "      <td>Wei Ch'in</td>\n",
       "      <td>35 Walden Road, GREAT WARLEY, UK</td>\n",
       "      <td>CM13 2BU</td>\n",
       "      <td>WeiChin@fleckens.hu</td>\n",
       "      <td>Hatmarat69</td>\n",
       "      <td>EeYah4eeLah</td>\n",
       "      <td>4/21/1969</td>\n",
       "      <td>MasterCard</td>\n",
       "      <td>5458415141708657</td>\n",
       "      <td>311</td>\n",
       "      <td>3/2016</td>\n",
       "      <td>O+</td>\n",
       "      <td>132.8</td>\n",
       "      <td>184</td>\n",
       "    </tr>\n",
       "  </tbody>\n",
       "</table>\n",
       "<p>99996 rows × 17 columns</p>\n",
       "</div>"
      ],
      "text/plain": [
       "         Number  Gender Title              Name  \\\n",
       "0           1.0    male   Mr.        Dewei Tuan   \n",
       "1           2.0  female   Ms.     Natasha Watts   \n",
       "2           3.0  female  Mrs.  Qing Yuan Ch'ien   \n",
       "3           4.0    male   Mr.      Nathan Bykov   \n",
       "4           5.0  female  Mrs.           Hua Han   \n",
       "...         ...     ...   ...               ...   \n",
       "99991   99996.0    male   Mr.       Hsin Chiang   \n",
       "99992   99997.0  female   Ms.         Cai Hs?eh   \n",
       "99993   99998.0    male   Mr.     Finlay Storey   \n",
       "99994   99999.0  female  Mrs.     Qing Yuan Yao   \n",
       "99995  100000.0    male   Mr.         Wei Ch'in   \n",
       "\n",
       "                                     Address   ZipCode  \\\n",
       "0                      42 Main Rd, FOEL, UK   SY21 3FF   \n",
       "1      46 Coast Rd, KIRKPATRICK-FLEMING, UK   DG11 2HN   \n",
       "2         3 Friar Street, CLAWDD-NEWYDD, UK   LL15 0SQ   \n",
       "3           79 Abbey Row, NORTON BRIDGE, UK   ST15 3JF   \n",
       "4          37 Shire Oak Road, SAXTHORPE, UK   NR11 4WE   \n",
       "...                                      ...       ...   \n",
       "99991   85 Pier Road, STANTON BY BRIDGE, UK   DE73 2DW   \n",
       "99992    55 Overton Circle, LITTLE-DEAN, UK   GL14 6TG   \n",
       "99993           13 Main St, ACHNACLOICH, UK   PA37 6NG   \n",
       "99994             52 Abbey Row, NUP END, UK   HP22 7PJ   \n",
       "99995      35 Walden Road, GREAT WARLEY, UK   CM13 2BU   \n",
       "\n",
       "                      EmailAddress    Username      Password    Birthday  \\\n",
       "0            DeweiTuan@fleckens.hu   Piten1973      ohSooZ2d   7/31/1973   \n",
       "1      NatashaWatts@jourrapide.com     Fultank      Neey0ko8  10/30/1934   \n",
       "2          QingYuanChien@rhyta.com      Diater     Iemah8too    6/8/1981   \n",
       "3           NathanBykov@einrot.com      Cougge  cieMa8chai8!  10/23/1979   \n",
       "4             HuaHan@superrito.com      Priese   ad6ir0Leich  12/19/1943   \n",
       "...                            ...         ...           ...         ...   \n",
       "99991       HsinChiang@fleckens.hu     Spersen  zoo9jiy8ohTh   3/11/1946   \n",
       "99992         CaiHsueh@fleckens.hu      Pronce   ACh5eoreer8   7/10/1986   \n",
       "99993     FinlayStorey@armyspy.com  Foreme1963    haiPhees1k   10/2/1963   \n",
       "99994         QingYuanYao@cuvox.de   Mants1929   juw7DesieKa  11/24/1929   \n",
       "99995          WeiChin@fleckens.hu  Hatmarat69   EeYah4eeLah   4/21/1969   \n",
       "\n",
       "           CCType          CCNumber CVV2 CCExpires BloodType Kilograms  \\\n",
       "0      MasterCard  5371472825372403  919    9/2019        B+      89.6   \n",
       "1            Visa  4716753125322116  677    3/2017        B+      52.4   \n",
       "2            Visa  4485122099933788  895    5/2016       AB+      91.0   \n",
       "3            Visa  4532644318841479  295    5/2018        O+     110.4   \n",
       "4            Visa  4485599386962523  711    3/2017        B+      84.1   \n",
       "...           ...               ...  ...       ...       ...       ...   \n",
       "99991        Visa  4485971302727449  929    3/2016        A+      63.8   \n",
       "99992        Visa  4485866305481020  640    7/2017        O-      84.9   \n",
       "99993  MasterCard  5178156818415783  595    4/2019        O+     115.6   \n",
       "99994        Visa  4485148899899473  429    8/2019        O+      51.9   \n",
       "99995  MasterCard  5458415141708657  311    3/2016        O+     132.8   \n",
       "\n",
       "      Centimeters  \n",
       "0             183  \n",
       "1             170  \n",
       "2             158  \n",
       "3             187  \n",
       "4             155  \n",
       "...           ...  \n",
       "99991         172  \n",
       "99992         157  \n",
       "99993         176  \n",
       "99994         158  \n",
       "99995         184  \n",
       "\n",
       "[99996 rows x 17 columns]"
      ]
     },
     "execution_count": 10,
     "metadata": {},
     "output_type": "execute_result"
    }
   ],
   "source": [
    "data"
   ]
  },
  {
   "cell_type": "code",
   "execution_count": 11,
   "metadata": {},
   "outputs": [],
   "source": [
    "data.to_csv('./Fakenames_refined.csv',index=None)"
   ]
  },
  {
   "cell_type": "markdown",
   "metadata": {},
   "source": [
    "Converting the columns to their neccessary dtype"
   ]
  },
  {
   "cell_type": "code",
   "execution_count": 12,
   "metadata": {},
   "outputs": [
    {
     "name": "stdout",
     "output_type": "stream",
     "text": [
      "<class 'pandas.core.frame.DataFrame'>\n",
      "RangeIndex: 99996 entries, 0 to 99995\n",
      "Data columns (total 17 columns):\n",
      " #   Column        Non-Null Count  Dtype  \n",
      "---  ------        --------------  -----  \n",
      " 0   Number        99995 non-null  float64\n",
      " 1   Gender        98809 non-null  object \n",
      " 2   Title         99956 non-null  object \n",
      " 3   Name          99943 non-null  object \n",
      " 4   Address       99879 non-null  object \n",
      " 5   ZipCode       99880 non-null  object \n",
      " 6   EmailAddress  99880 non-null  object \n",
      " 7   Username      99879 non-null  object \n",
      " 8   Password      99879 non-null  object \n",
      " 9   Birthday      99879 non-null  object \n",
      " 10  CCType        99879 non-null  object \n",
      " 11  CCNumber      99879 non-null  object \n",
      " 12  CVV2          99942 non-null  object \n",
      " 13  CCExpires     99942 non-null  object \n",
      " 14  BloodType     99925 non-null  object \n",
      " 15  Kilograms     99867 non-null  object \n",
      " 16  Centimeters   99754 non-null  object \n",
      "dtypes: float64(1), object(16)\n",
      "memory usage: 13.0+ MB\n"
     ]
    }
   ],
   "source": [
    "data.info()"
   ]
  },
  {
   "cell_type": "code",
   "execution_count": 13,
   "metadata": {},
   "outputs": [
    {
     "data": {
      "text/html": [
       "<div>\n",
       "<style scoped>\n",
       "    .dataframe tbody tr th:only-of-type {\n",
       "        vertical-align: middle;\n",
       "    }\n",
       "\n",
       "    .dataframe tbody tr th {\n",
       "        vertical-align: top;\n",
       "    }\n",
       "\n",
       "    .dataframe thead th {\n",
       "        text-align: right;\n",
       "    }\n",
       "</style>\n",
       "<table border=\"1\" class=\"dataframe\">\n",
       "  <thead>\n",
       "    <tr style=\"text-align: right;\">\n",
       "      <th></th>\n",
       "      <th>Address</th>\n",
       "    </tr>\n",
       "  </thead>\n",
       "  <tbody>\n",
       "    <tr>\n",
       "      <th>69</th>\n",
       "      <td>61 Ermin Street, WYKEHAM, UK ,YO17 9YT,HuiYuan...</td>\n",
       "    </tr>\n",
       "  </tbody>\n",
       "</table>\n",
       "</div>"
      ],
      "text/plain": [
       "                                              Address\n",
       "69  61 Ermin Street, WYKEHAM, UK ,YO17 9YT,HuiYuan..."
      ]
     },
     "execution_count": 13,
     "metadata": {},
     "output_type": "execute_result"
    }
   ],
   "source": [
    "data.loc[data['Birthday'] == 'Homplever', ['Address']]"
   ]
  },
  {
   "cell_type": "code",
   "execution_count": 14,
   "metadata": {},
   "outputs": [
    {
     "data": {
      "text/plain": [
       "'61 Ermin Street, WYKEHAM, UK ,YO17 9YT,HuiYuan@teleworm.us,Drues1947,FuiN0quah,11/17/1947,MasterCard,5126644024838933,223,6/2019,O+,119,177\\r\\n71,female,Mrs.,Lucia,Alekseyeva,45 Marlborough Crescent'"
      ]
     },
     "execution_count": 14,
     "metadata": {},
     "output_type": "execute_result"
    }
   ],
   "source": [
    "y = data['Address'].iloc[69]\n",
    "y"
   ]
  },
  {
   "cell_type": "code",
   "execution_count": 15,
   "metadata": {},
   "outputs": [],
   "source": [
    "p = '70,male,Mr.,Hui Yuan,61 Ermin Street, WYKEHAM, UK ,YO17 9YT,HuiYuan@teleworm.us,Drues1947,FuiN0quah,11/17/1947,MasterCard,5126644024838933,223,6/2019,O+,119,177'"
   ]
  },
  {
   "cell_type": "code",
   "execution_count": 16,
   "metadata": {},
   "outputs": [
    {
     "ename": "NameError",
     "evalue": "name 'name' is not defined",
     "output_type": "error",
     "traceback": [
      "\u001b[1;31m---------------------------------------------------------------------------\u001b[0m",
      "\u001b[1;31mNameError\u001b[0m                                 Traceback (most recent call last)",
      "\u001b[1;32m<ipython-input-16-a81199460ccd>\u001b[0m in \u001b[0;36m<module>\u001b[1;34m\u001b[0m\n\u001b[1;32m----> 1\u001b[1;33m \u001b[0mdata\u001b[0m\u001b[1;33m.\u001b[0m\u001b[0mloc\u001b[0m\u001b[1;33m[\u001b[0m\u001b[1;33m(\u001b[0m\u001b[0mdata\u001b[0m\u001b[1;33m[\u001b[0m\u001b[1;34m'Name'\u001b[0m\u001b[1;33m]\u001b[0m \u001b[1;33m==\u001b[0m \u001b[0mname\u001b[0m\u001b[1;33m)\u001b[0m\u001b[1;33m&\u001b[0m\u001b[1;33m(\u001b[0m\u001b[0mdata\u001b[0m\u001b[1;33m[\u001b[0m\u001b[1;34m'Birthday'\u001b[0m\u001b[1;33m]\u001b[0m \u001b[1;33m==\u001b[0m \u001b[1;34m'Homplever'\u001b[0m\u001b[1;33m)\u001b[0m\u001b[1;33m,\u001b[0m \u001b[1;33m[\u001b[0m\u001b[1;34m'Number'\u001b[0m\u001b[1;33m]\u001b[0m\u001b[1;33m]\u001b[0m \u001b[1;33m=\u001b[0m \u001b[1;36m71\u001b[0m\u001b[1;33m\u001b[0m\u001b[1;33m\u001b[0m\u001b[0m\n\u001b[0m\u001b[0;32m      2\u001b[0m \u001b[0mdata\u001b[0m\u001b[1;33m.\u001b[0m\u001b[0mloc\u001b[0m\u001b[1;33m[\u001b[0m\u001b[1;33m(\u001b[0m\u001b[0mdata\u001b[0m\u001b[1;33m[\u001b[0m\u001b[1;34m'Name'\u001b[0m\u001b[1;33m]\u001b[0m \u001b[1;33m==\u001b[0m \u001b[0mname\u001b[0m\u001b[1;33m)\u001b[0m\u001b[1;33m&\u001b[0m\u001b[1;33m(\u001b[0m\u001b[0mdata\u001b[0m\u001b[1;33m[\u001b[0m\u001b[1;34m'Birthday'\u001b[0m\u001b[1;33m]\u001b[0m \u001b[1;33m==\u001b[0m \u001b[1;34m'Homplever'\u001b[0m\u001b[1;33m)\u001b[0m\u001b[1;33m,\u001b[0m \u001b[1;33m[\u001b[0m\u001b[1;34m'Gender'\u001b[0m\u001b[1;33m]\u001b[0m\u001b[1;33m]\u001b[0m \u001b[1;33m=\u001b[0m \u001b[1;34m'female'\u001b[0m\u001b[1;33m\u001b[0m\u001b[1;33m\u001b[0m\u001b[0m\n\u001b[0;32m      3\u001b[0m \u001b[0mdata\u001b[0m\u001b[1;33m.\u001b[0m\u001b[0mloc\u001b[0m\u001b[1;33m[\u001b[0m\u001b[1;33m(\u001b[0m\u001b[0mdata\u001b[0m\u001b[1;33m[\u001b[0m\u001b[1;34m'Name'\u001b[0m\u001b[1;33m]\u001b[0m \u001b[1;33m==\u001b[0m \u001b[0mname\u001b[0m\u001b[1;33m)\u001b[0m\u001b[1;33m&\u001b[0m\u001b[1;33m(\u001b[0m\u001b[0mdata\u001b[0m\u001b[1;33m[\u001b[0m\u001b[1;34m'Birthday'\u001b[0m\u001b[1;33m]\u001b[0m \u001b[1;33m==\u001b[0m \u001b[1;34m'Homplever'\u001b[0m\u001b[1;33m)\u001b[0m\u001b[1;33m,\u001b[0m \u001b[1;33m[\u001b[0m\u001b[1;34m'Title'\u001b[0m\u001b[1;33m]\u001b[0m\u001b[1;33m]\u001b[0m \u001b[1;33m=\u001b[0m \u001b[1;34m'Mrs.'\u001b[0m\u001b[1;33m\u001b[0m\u001b[1;33m\u001b[0m\u001b[0m\n\u001b[0;32m      4\u001b[0m \u001b[0mdata\u001b[0m\u001b[1;33m.\u001b[0m\u001b[0mloc\u001b[0m\u001b[1;33m[\u001b[0m\u001b[1;33m(\u001b[0m\u001b[0mdata\u001b[0m\u001b[1;33m[\u001b[0m\u001b[1;34m'Name'\u001b[0m\u001b[1;33m]\u001b[0m \u001b[1;33m==\u001b[0m \u001b[1;34m'Hui Yuan'\u001b[0m\u001b[1;33m)\u001b[0m\u001b[1;33m&\u001b[0m\u001b[1;33m(\u001b[0m\u001b[0mdata\u001b[0m\u001b[1;33m[\u001b[0m\u001b[1;34m'Birthday'\u001b[0m\u001b[1;33m]\u001b[0m \u001b[1;33m==\u001b[0m \u001b[1;34m'Homplever'\u001b[0m\u001b[1;33m)\u001b[0m\u001b[1;33m,\u001b[0m \u001b[1;33m[\u001b[0m\u001b[1;34m'Name'\u001b[0m\u001b[1;33m]\u001b[0m\u001b[1;33m]\u001b[0m \u001b[1;33m=\u001b[0m \u001b[0mname\u001b[0m\u001b[1;33m\u001b[0m\u001b[1;33m\u001b[0m\u001b[0m\n\u001b[0;32m      5\u001b[0m \u001b[0mdata\u001b[0m\u001b[1;33m.\u001b[0m\u001b[0mloc\u001b[0m\u001b[1;33m[\u001b[0m\u001b[1;33m(\u001b[0m\u001b[0mdata\u001b[0m\u001b[1;33m[\u001b[0m\u001b[1;34m'Name'\u001b[0m\u001b[1;33m]\u001b[0m \u001b[1;33m==\u001b[0m \u001b[0mname\u001b[0m\u001b[1;33m)\u001b[0m\u001b[1;33m&\u001b[0m\u001b[1;33m(\u001b[0m\u001b[0mdata\u001b[0m\u001b[1;33m[\u001b[0m\u001b[1;34m'Birthday'\u001b[0m\u001b[1;33m]\u001b[0m \u001b[1;33m==\u001b[0m \u001b[1;34m'Homplever'\u001b[0m\u001b[1;33m)\u001b[0m\u001b[1;33m,\u001b[0m \u001b[1;33m[\u001b[0m\u001b[1;34m'Address'\u001b[0m\u001b[1;33m]\u001b[0m\u001b[1;33m]\u001b[0m \u001b[1;33m=\u001b[0m \u001b[0my\u001b[0m\u001b[1;33m.\u001b[0m\u001b[0msplit\u001b[0m\u001b[1;33m(\u001b[0m\u001b[1;34m','\u001b[0m\u001b[1;33m)\u001b[0m\u001b[1;33m[\u001b[0m\u001b[1;33m-\u001b[0m\u001b[1;36m1\u001b[0m\u001b[1;33m]\u001b[0m\u001b[1;33m+\u001b[0m\u001b[1;34m', '\u001b[0m\u001b[1;33m+\u001b[0m\u001b[1;34m'SOUTH WOOTTON, UK'\u001b[0m\u001b[1;33m\u001b[0m\u001b[1;33m\u001b[0m\u001b[0m\n",
      "\u001b[1;31mNameError\u001b[0m: name 'name' is not defined"
     ]
    }
   ],
   "source": [
    "data.loc[(data['Name'] == name)&(data['Birthday'] == 'Homplever'), ['Number']] = 71\n",
    "data.loc[(data['Name'] == name)&(data['Birthday'] == 'Homplever'), ['Gender']] = 'female'\n",
    "data.loc[(data['Name'] == name)&(data['Birthday'] == 'Homplever'), ['Title']] = 'Mrs.'\n",
    "data.loc[(data['Name'] == 'Hui Yuan')&(data['Birthday'] == 'Homplever'), ['Name']] = name\n",
    "data.loc[(data['Name'] == name)&(data['Birthday'] == 'Homplever'), ['Address']] = y.split(',')[-1]+', '+'SOUTH WOOTTON, UK'\n",
    "data.loc[(data['Name'] == name), ['ZipCode']] = 'PE30 1WD'\n",
    "data.loc[(data['Name'] == name), ['EmailAddress']] = 'LuciaAlekseyeva@armyspy.com'\n",
    "data.loc[(data['Name'] == name), ['Username']] = 'Homplever'\n",
    "data.loc[(data['Name'] == name), ['Password']] = 'Eicie2phie'\n",
    "data.loc[(data['Name'] == name), ['Birthday']] = '5/31/1939'\n",
    "data.loc[(data['Name'] == name), ['CCType']] = 'MasterCard'\n",
    "data.loc[(data['Name'] == name), ['CCNumber']] = '552061072105673'\n",
    "data.loc[(data['Name'] == name), ['CVV2']] = '351'\n",
    "data.loc[(data['Name'] == name), ['CCExpires']] = '4/2018'\n",
    "data.loc[(data['Name'] == name), ['BloodType']] = 'O+'\n",
    "data.loc[(data['Name'] == name), ['Kilograms']] = '69.6'\n",
    "data.loc[(data['Name'] == name), ['Centimeters']] = '153'"
   ]
  },
  {
   "cell_type": "code",
   "execution_count": null,
   "metadata": {},
   "outputs": [],
   "source": [
    "data = data.append({'Number':p.split(',')[0],\n",
    "'Gender':p.split(',')[1],\n",
    "'Title' : p.split(',')[2],\n",
    "'Name' : p.split(',')[3],\n",
    "'Address' : p.split(',')[4],\n",
    "'ZipCode' : p.split(',')[6]+', '+p.split(',')[7],\n",
    "'EmailAddress' : p.split(',')[8],\n",
    "'Username' : p.split(',')[9],\n",
    "'Password' : p.split(',')[10],\n",
    "'Birthday' : p.split(',')[11],\n",
    "'CCType' : p.split(',')[12],\n",
    "'CCNumber' : p.split(',')[13],\n",
    "'CVV2': p.split(',')[14],\n",
    "'CCExpires' : p.split(',')[15],\n",
    "'BloodType' : p.split(',')[16],\n",
    "'Kilograms' : p.split(',')[17],\n",
    "'Centimeters' : p.split(',')[18]}, ignore_index=True)"
   ]
  },
  {
   "cell_type": "code",
   "execution_count": null,
   "metadata": {},
   "outputs": [],
   "source": [
    "data.columns"
   ]
  },
  {
   "cell_type": "code",
   "execution_count": null,
   "metadata": {},
   "outputs": [],
   "source": [
    "data.info()"
   ]
  },
  {
   "cell_type": "code",
   "execution_count": null,
   "metadata": {},
   "outputs": [],
   "source": [
    "data[data.isna().any(axis=1)]"
   ]
  },
  {
   "cell_type": "code",
   "execution_count": null,
   "metadata": {},
   "outputs": [],
   "source": [
    "data[data.isna().any(axis=1)]"
   ]
  },
  {
   "cell_type": "code",
   "execution_count": null,
   "metadata": {},
   "outputs": [],
   "source": [
    "data[data['Number'] == 2639]"
   ]
  },
  {
   "cell_type": "code",
   "execution_count": null,
   "metadata": {},
   "outputs": [],
   "source": [
    "data[data['Centimeters'] == 'female']"
   ]
  },
  {
   "cell_type": "code",
   "execution_count": null,
   "metadata": {},
   "outputs": [],
   "source": [
    "data.iloc[2623]"
   ]
  },
  {
   "cell_type": "code",
   "execution_count": 17,
   "metadata": {},
   "outputs": [],
   "source": [
    "data = data.dropna()"
   ]
  },
  {
   "cell_type": "code",
   "execution_count": 18,
   "metadata": {},
   "outputs": [],
   "source": [
    "data = data.reindex(range(0,len(data)))"
   ]
  },
  {
   "cell_type": "code",
   "execution_count": 19,
   "metadata": {},
   "outputs": [],
   "source": [
    "data = data.dropna()"
   ]
  },
  {
   "cell_type": "code",
   "execution_count": 20,
   "metadata": {},
   "outputs": [
    {
     "data": {
      "text/html": [
       "<div>\n",
       "<style scoped>\n",
       "    .dataframe tbody tr th:only-of-type {\n",
       "        vertical-align: middle;\n",
       "    }\n",
       "\n",
       "    .dataframe tbody tr th {\n",
       "        vertical-align: top;\n",
       "    }\n",
       "\n",
       "    .dataframe thead th {\n",
       "        text-align: right;\n",
       "    }\n",
       "</style>\n",
       "<table border=\"1\" class=\"dataframe\">\n",
       "  <thead>\n",
       "    <tr style=\"text-align: right;\">\n",
       "      <th></th>\n",
       "      <th>Number</th>\n",
       "      <th>Gender</th>\n",
       "      <th>Title</th>\n",
       "      <th>Name</th>\n",
       "      <th>Address</th>\n",
       "      <th>ZipCode</th>\n",
       "      <th>EmailAddress</th>\n",
       "      <th>Username</th>\n",
       "      <th>Password</th>\n",
       "      <th>Birthday</th>\n",
       "      <th>CCType</th>\n",
       "      <th>CCNumber</th>\n",
       "      <th>CVV2</th>\n",
       "      <th>CCExpires</th>\n",
       "      <th>BloodType</th>\n",
       "      <th>Kilograms</th>\n",
       "      <th>Centimeters</th>\n",
       "    </tr>\n",
       "  </thead>\n",
       "  <tbody>\n",
       "    <tr>\n",
       "      <th>0</th>\n",
       "      <td>1.0</td>\n",
       "      <td>male</td>\n",
       "      <td>Mr.</td>\n",
       "      <td>Dewei Tuan</td>\n",
       "      <td>42 Main Rd, FOEL, UK</td>\n",
       "      <td>SY21 3FF</td>\n",
       "      <td>DeweiTuan@fleckens.hu</td>\n",
       "      <td>Piten1973</td>\n",
       "      <td>ohSooZ2d</td>\n",
       "      <td>7/31/1973</td>\n",
       "      <td>MasterCard</td>\n",
       "      <td>5371472825372403</td>\n",
       "      <td>919</td>\n",
       "      <td>9/2019</td>\n",
       "      <td>B+</td>\n",
       "      <td>89.6</td>\n",
       "      <td>183</td>\n",
       "    </tr>\n",
       "    <tr>\n",
       "      <th>1</th>\n",
       "      <td>2.0</td>\n",
       "      <td>female</td>\n",
       "      <td>Ms.</td>\n",
       "      <td>Natasha Watts</td>\n",
       "      <td>46 Coast Rd, KIRKPATRICK-FLEMING, UK</td>\n",
       "      <td>DG11 2HN</td>\n",
       "      <td>NatashaWatts@jourrapide.com</td>\n",
       "      <td>Fultank</td>\n",
       "      <td>Neey0ko8</td>\n",
       "      <td>10/30/1934</td>\n",
       "      <td>Visa</td>\n",
       "      <td>4716753125322116</td>\n",
       "      <td>677</td>\n",
       "      <td>3/2017</td>\n",
       "      <td>B+</td>\n",
       "      <td>52.4</td>\n",
       "      <td>170</td>\n",
       "    </tr>\n",
       "    <tr>\n",
       "      <th>2</th>\n",
       "      <td>3.0</td>\n",
       "      <td>female</td>\n",
       "      <td>Mrs.</td>\n",
       "      <td>Qing Yuan Ch'ien</td>\n",
       "      <td>3 Friar Street, CLAWDD-NEWYDD, UK</td>\n",
       "      <td>LL15 0SQ</td>\n",
       "      <td>QingYuanChien@rhyta.com</td>\n",
       "      <td>Diater</td>\n",
       "      <td>Iemah8too</td>\n",
       "      <td>6/8/1981</td>\n",
       "      <td>Visa</td>\n",
       "      <td>4485122099933788</td>\n",
       "      <td>895</td>\n",
       "      <td>5/2016</td>\n",
       "      <td>AB+</td>\n",
       "      <td>91.0</td>\n",
       "      <td>158</td>\n",
       "    </tr>\n",
       "    <tr>\n",
       "      <th>3</th>\n",
       "      <td>4.0</td>\n",
       "      <td>male</td>\n",
       "      <td>Mr.</td>\n",
       "      <td>Nathan Bykov</td>\n",
       "      <td>79 Abbey Row, NORTON BRIDGE, UK</td>\n",
       "      <td>ST15 3JF</td>\n",
       "      <td>NathanBykov@einrot.com</td>\n",
       "      <td>Cougge</td>\n",
       "      <td>cieMa8chai8!</td>\n",
       "      <td>10/23/1979</td>\n",
       "      <td>Visa</td>\n",
       "      <td>4532644318841479</td>\n",
       "      <td>295</td>\n",
       "      <td>5/2018</td>\n",
       "      <td>O+</td>\n",
       "      <td>110.4</td>\n",
       "      <td>187</td>\n",
       "    </tr>\n",
       "    <tr>\n",
       "      <th>4</th>\n",
       "      <td>5.0</td>\n",
       "      <td>female</td>\n",
       "      <td>Mrs.</td>\n",
       "      <td>Hua Han</td>\n",
       "      <td>37 Shire Oak Road, SAXTHORPE, UK</td>\n",
       "      <td>NR11 4WE</td>\n",
       "      <td>HuaHan@superrito.com</td>\n",
       "      <td>Priese</td>\n",
       "      <td>ad6ir0Leich</td>\n",
       "      <td>12/19/1943</td>\n",
       "      <td>Visa</td>\n",
       "      <td>4485599386962523</td>\n",
       "      <td>711</td>\n",
       "      <td>3/2017</td>\n",
       "      <td>B+</td>\n",
       "      <td>84.1</td>\n",
       "      <td>155</td>\n",
       "    </tr>\n",
       "    <tr>\n",
       "      <th>...</th>\n",
       "      <td>...</td>\n",
       "      <td>...</td>\n",
       "      <td>...</td>\n",
       "      <td>...</td>\n",
       "      <td>...</td>\n",
       "      <td>...</td>\n",
       "      <td>...</td>\n",
       "      <td>...</td>\n",
       "      <td>...</td>\n",
       "      <td>...</td>\n",
       "      <td>...</td>\n",
       "      <td>...</td>\n",
       "      <td>...</td>\n",
       "      <td>...</td>\n",
       "      <td>...</td>\n",
       "      <td>...</td>\n",
       "      <td>...</td>\n",
       "    </tr>\n",
       "    <tr>\n",
       "      <th>98522</th>\n",
       "      <td>98527.0</td>\n",
       "      <td>female</td>\n",
       "      <td>Ms.</td>\n",
       "      <td>Hua Tsao</td>\n",
       "      <td>84 Earls Avenue, WHITELEYS, UK</td>\n",
       "      <td>DG9 5SH</td>\n",
       "      <td>HuaTsao@fleckens.hu</td>\n",
       "      <td>Alisher</td>\n",
       "      <td>iph2ChaiC</td>\n",
       "      <td>2/17/1978</td>\n",
       "      <td>Visa</td>\n",
       "      <td>4485835220647676</td>\n",
       "      <td>362</td>\n",
       "      <td>8/2019</td>\n",
       "      <td>B+</td>\n",
       "      <td>76.6</td>\n",
       "      <td>167</td>\n",
       "    </tr>\n",
       "    <tr>\n",
       "      <th>98523</th>\n",
       "      <td>98528.0</td>\n",
       "      <td>female</td>\n",
       "      <td>Ms.</td>\n",
       "      <td>Melissa Bibi</td>\n",
       "      <td>34 Russell Rd, SHIREBROOK, UK</td>\n",
       "      <td>NG20 5HG</td>\n",
       "      <td>MelissaBibi@jourrapide.com</td>\n",
       "      <td>Aninge</td>\n",
       "      <td>Uv1sah5OhG</td>\n",
       "      <td>12/29/1966</td>\n",
       "      <td>MasterCard</td>\n",
       "      <td>5250761873894771</td>\n",
       "      <td>867</td>\n",
       "      <td>7/2018</td>\n",
       "      <td>A+</td>\n",
       "      <td>67.5</td>\n",
       "      <td>167</td>\n",
       "    </tr>\n",
       "    <tr>\n",
       "      <th>98524</th>\n",
       "      <td>98529.0</td>\n",
       "      <td>male</td>\n",
       "      <td>Mr.</td>\n",
       "      <td>Chung Ni</td>\n",
       "      <td>9 West Lane, DALGINROSS, UK</td>\n",
       "      <td>PH6 9NX</td>\n",
       "      <td>ChungNi@armyspy.com</td>\n",
       "      <td>Wittaloo</td>\n",
       "      <td>chohmi9Phe1</td>\n",
       "      <td>1/7/1931</td>\n",
       "      <td>Visa</td>\n",
       "      <td>4916431732987435</td>\n",
       "      <td>353</td>\n",
       "      <td>9/2019</td>\n",
       "      <td>O+</td>\n",
       "      <td>99.9</td>\n",
       "      <td>165</td>\n",
       "    </tr>\n",
       "    <tr>\n",
       "      <th>98525</th>\n",
       "      <td>98530.0</td>\n",
       "      <td>female</td>\n",
       "      <td>Ms.</td>\n",
       "      <td>Eloise Metcalfe</td>\n",
       "      <td>67 Circle Way, CADLE, UK</td>\n",
       "      <td>SA5 7AD</td>\n",
       "      <td>EloiseMetcalfe@einrot.com</td>\n",
       "      <td>Trone1943</td>\n",
       "      <td>Xeiyai3ohY2Oo</td>\n",
       "      <td>6/30/1943</td>\n",
       "      <td>Visa</td>\n",
       "      <td>4556853151023662</td>\n",
       "      <td>276</td>\n",
       "      <td>12/2019</td>\n",
       "      <td>O+</td>\n",
       "      <td>91.8</td>\n",
       "      <td>170</td>\n",
       "    </tr>\n",
       "    <tr>\n",
       "      <th>98526</th>\n",
       "      <td>98531.0</td>\n",
       "      <td>male</td>\n",
       "      <td>Mr.</td>\n",
       "      <td>Jack Bentley</td>\n",
       "      <td>69 Station Rd, PWLLMEYRIC, UK</td>\n",
       "      <td>NP6 4GD</td>\n",
       "      <td>JackBentley@rhyta.com</td>\n",
       "      <td>Gattim</td>\n",
       "      <td>Tie0uo6qu!</td>\n",
       "      <td>10/30/1994</td>\n",
       "      <td>MasterCard</td>\n",
       "      <td>5251341939621853</td>\n",
       "      <td>739</td>\n",
       "      <td>7/2020</td>\n",
       "      <td>O+</td>\n",
       "      <td>99.5</td>\n",
       "      <td>177</td>\n",
       "    </tr>\n",
       "  </tbody>\n",
       "</table>\n",
       "<p>97061 rows × 17 columns</p>\n",
       "</div>"
      ],
      "text/plain": [
       "        Number  Gender Title              Name  \\\n",
       "0          1.0    male   Mr.        Dewei Tuan   \n",
       "1          2.0  female   Ms.     Natasha Watts   \n",
       "2          3.0  female  Mrs.  Qing Yuan Ch'ien   \n",
       "3          4.0    male   Mr.      Nathan Bykov   \n",
       "4          5.0  female  Mrs.           Hua Han   \n",
       "...        ...     ...   ...               ...   \n",
       "98522  98527.0  female   Ms.          Hua Tsao   \n",
       "98523  98528.0  female   Ms.      Melissa Bibi   \n",
       "98524  98529.0    male   Mr.          Chung Ni   \n",
       "98525  98530.0  female   Ms.   Eloise Metcalfe   \n",
       "98526  98531.0    male   Mr.      Jack Bentley   \n",
       "\n",
       "                                     Address   ZipCode  \\\n",
       "0                      42 Main Rd, FOEL, UK   SY21 3FF   \n",
       "1      46 Coast Rd, KIRKPATRICK-FLEMING, UK   DG11 2HN   \n",
       "2         3 Friar Street, CLAWDD-NEWYDD, UK   LL15 0SQ   \n",
       "3           79 Abbey Row, NORTON BRIDGE, UK   ST15 3JF   \n",
       "4          37 Shire Oak Road, SAXTHORPE, UK   NR11 4WE   \n",
       "...                                      ...       ...   \n",
       "98522        84 Earls Avenue, WHITELEYS, UK    DG9 5SH   \n",
       "98523         34 Russell Rd, SHIREBROOK, UK   NG20 5HG   \n",
       "98524           9 West Lane, DALGINROSS, UK    PH6 9NX   \n",
       "98525              67 Circle Way, CADLE, UK    SA5 7AD   \n",
       "98526         69 Station Rd, PWLLMEYRIC, UK    NP6 4GD   \n",
       "\n",
       "                      EmailAddress   Username       Password    Birthday  \\\n",
       "0            DeweiTuan@fleckens.hu  Piten1973       ohSooZ2d   7/31/1973   \n",
       "1      NatashaWatts@jourrapide.com    Fultank       Neey0ko8  10/30/1934   \n",
       "2          QingYuanChien@rhyta.com     Diater      Iemah8too    6/8/1981   \n",
       "3           NathanBykov@einrot.com     Cougge   cieMa8chai8!  10/23/1979   \n",
       "4             HuaHan@superrito.com     Priese    ad6ir0Leich  12/19/1943   \n",
       "...                            ...        ...            ...         ...   \n",
       "98522          HuaTsao@fleckens.hu    Alisher      iph2ChaiC   2/17/1978   \n",
       "98523   MelissaBibi@jourrapide.com     Aninge     Uv1sah5OhG  12/29/1966   \n",
       "98524          ChungNi@armyspy.com   Wittaloo    chohmi9Phe1    1/7/1931   \n",
       "98525    EloiseMetcalfe@einrot.com  Trone1943  Xeiyai3ohY2Oo   6/30/1943   \n",
       "98526        JackBentley@rhyta.com     Gattim     Tie0uo6qu!  10/30/1994   \n",
       "\n",
       "           CCType          CCNumber CVV2 CCExpires BloodType Kilograms  \\\n",
       "0      MasterCard  5371472825372403  919    9/2019        B+      89.6   \n",
       "1            Visa  4716753125322116  677    3/2017        B+      52.4   \n",
       "2            Visa  4485122099933788  895    5/2016       AB+      91.0   \n",
       "3            Visa  4532644318841479  295    5/2018        O+     110.4   \n",
       "4            Visa  4485599386962523  711    3/2017        B+      84.1   \n",
       "...           ...               ...  ...       ...       ...       ...   \n",
       "98522        Visa  4485835220647676  362    8/2019        B+      76.6   \n",
       "98523  MasterCard  5250761873894771  867    7/2018        A+      67.5   \n",
       "98524        Visa  4916431732987435  353    9/2019        O+      99.9   \n",
       "98525        Visa  4556853151023662  276   12/2019        O+      91.8   \n",
       "98526  MasterCard  5251341939621853  739    7/2020        O+      99.5   \n",
       "\n",
       "      Centimeters  \n",
       "0             183  \n",
       "1             170  \n",
       "2             158  \n",
       "3             187  \n",
       "4             155  \n",
       "...           ...  \n",
       "98522         167  \n",
       "98523         167  \n",
       "98524         165  \n",
       "98525         170  \n",
       "98526         177  \n",
       "\n",
       "[97061 rows x 17 columns]"
      ]
     },
     "execution_count": 20,
     "metadata": {},
     "output_type": "execute_result"
    }
   ],
   "source": [
    "data"
   ]
  },
  {
   "cell_type": "code",
   "execution_count": 21,
   "metadata": {},
   "outputs": [
    {
     "data": {
      "text/html": [
       "<div>\n",
       "<style scoped>\n",
       "    .dataframe tbody tr th:only-of-type {\n",
       "        vertical-align: middle;\n",
       "    }\n",
       "\n",
       "    .dataframe tbody tr th {\n",
       "        vertical-align: top;\n",
       "    }\n",
       "\n",
       "    .dataframe thead th {\n",
       "        text-align: right;\n",
       "    }\n",
       "</style>\n",
       "<table border=\"1\" class=\"dataframe\">\n",
       "  <thead>\n",
       "    <tr style=\"text-align: right;\">\n",
       "      <th></th>\n",
       "      <th>Number</th>\n",
       "      <th>Gender</th>\n",
       "      <th>Title</th>\n",
       "      <th>Name</th>\n",
       "      <th>Address</th>\n",
       "      <th>ZipCode</th>\n",
       "      <th>EmailAddress</th>\n",
       "      <th>Username</th>\n",
       "      <th>Password</th>\n",
       "      <th>Birthday</th>\n",
       "      <th>CCType</th>\n",
       "      <th>CCNumber</th>\n",
       "      <th>CVV2</th>\n",
       "      <th>CCExpires</th>\n",
       "      <th>BloodType</th>\n",
       "      <th>Kilograms</th>\n",
       "      <th>Centimeters</th>\n",
       "    </tr>\n",
       "  </thead>\n",
       "  <tbody>\n",
       "    <tr>\n",
       "      <th>0</th>\n",
       "      <td>1.0</td>\n",
       "      <td>male</td>\n",
       "      <td>Mr.</td>\n",
       "      <td>Dewei Tuan</td>\n",
       "      <td>42 Main Rd, FOEL, UK</td>\n",
       "      <td>SY21 3FF</td>\n",
       "      <td>DeweiTuan@fleckens.hu</td>\n",
       "      <td>Piten1973</td>\n",
       "      <td>ohSooZ2d</td>\n",
       "      <td>7/31/1973</td>\n",
       "      <td>MasterCard</td>\n",
       "      <td>5371472825372403</td>\n",
       "      <td>919</td>\n",
       "      <td>9/2019</td>\n",
       "      <td>B+</td>\n",
       "      <td>89.6</td>\n",
       "      <td>183</td>\n",
       "    </tr>\n",
       "    <tr>\n",
       "      <th>77788</th>\n",
       "      <td>77793.0</td>\n",
       "      <td>male</td>\n",
       "      <td>Mr.</td>\n",
       "      <td>Dewei Tuan</td>\n",
       "      <td>23 Wade Lane, SALTFORD, UK</td>\n",
       "      <td>BS18 9ZL</td>\n",
       "      <td>DeweiTuan@dayrep.com</td>\n",
       "      <td>Fewillic</td>\n",
       "      <td>eeLeeboo1oi</td>\n",
       "      <td>3/24/1986</td>\n",
       "      <td>Visa</td>\n",
       "      <td>4929709643574276</td>\n",
       "      <td>569</td>\n",
       "      <td>10/2019</td>\n",
       "      <td>B+</td>\n",
       "      <td>98.8</td>\n",
       "      <td>176</td>\n",
       "    </tr>\n",
       "    <tr>\n",
       "      <th>87332</th>\n",
       "      <td>87337.0</td>\n",
       "      <td>male</td>\n",
       "      <td>Mr.</td>\n",
       "      <td>Dewei Tuan</td>\n",
       "      <td>34 Eastbourne Rd, COLLACE, UK</td>\n",
       "      <td>PH2 3FB</td>\n",
       "      <td>DeweiTuan@cuvox.de</td>\n",
       "      <td>Roure1980</td>\n",
       "      <td>pu8seeCheVoolo</td>\n",
       "      <td>12/18/1980</td>\n",
       "      <td>MasterCard</td>\n",
       "      <td>5266887624630222</td>\n",
       "      <td>968</td>\n",
       "      <td>10/2019</td>\n",
       "      <td>B+</td>\n",
       "      <td>68.4</td>\n",
       "      <td>173</td>\n",
       "    </tr>\n",
       "    <tr>\n",
       "      <th>89374</th>\n",
       "      <td>89379.0</td>\n",
       "      <td>male</td>\n",
       "      <td>Mr.</td>\n",
       "      <td>Dewei Tuan</td>\n",
       "      <td>56 Thames Street, BONAWE QUARRIES, UK</td>\n",
       "      <td>PA37 4RQ</td>\n",
       "      <td>DeweiTuan@teleworm.us</td>\n",
       "      <td>Slingly</td>\n",
       "      <td>bu2ahChah</td>\n",
       "      <td>12/26/1962</td>\n",
       "      <td>MasterCard</td>\n",
       "      <td>5378288959479886</td>\n",
       "      <td>675</td>\n",
       "      <td>12/2016</td>\n",
       "      <td>O+</td>\n",
       "      <td>94.5</td>\n",
       "      <td>170</td>\n",
       "    </tr>\n",
       "  </tbody>\n",
       "</table>\n",
       "</div>"
      ],
      "text/plain": [
       "        Number Gender Title        Name  \\\n",
       "0          1.0   male   Mr.  Dewei Tuan   \n",
       "77788  77793.0   male   Mr.  Dewei Tuan   \n",
       "87332  87337.0   male   Mr.  Dewei Tuan   \n",
       "89374  89379.0   male   Mr.  Dewei Tuan   \n",
       "\n",
       "                                      Address   ZipCode  \\\n",
       "0                       42 Main Rd, FOEL, UK   SY21 3FF   \n",
       "77788             23 Wade Lane, SALTFORD, UK   BS18 9ZL   \n",
       "87332          34 Eastbourne Rd, COLLACE, UK    PH2 3FB   \n",
       "89374  56 Thames Street, BONAWE QUARRIES, UK   PA37 4RQ   \n",
       "\n",
       "                EmailAddress   Username        Password    Birthday  \\\n",
       "0      DeweiTuan@fleckens.hu  Piten1973        ohSooZ2d   7/31/1973   \n",
       "77788   DeweiTuan@dayrep.com   Fewillic     eeLeeboo1oi   3/24/1986   \n",
       "87332     DeweiTuan@cuvox.de  Roure1980  pu8seeCheVoolo  12/18/1980   \n",
       "89374  DeweiTuan@teleworm.us    Slingly       bu2ahChah  12/26/1962   \n",
       "\n",
       "           CCType          CCNumber CVV2 CCExpires BloodType Kilograms  \\\n",
       "0      MasterCard  5371472825372403  919    9/2019        B+      89.6   \n",
       "77788        Visa  4929709643574276  569   10/2019        B+      98.8   \n",
       "87332  MasterCard  5266887624630222  968   10/2019        B+      68.4   \n",
       "89374  MasterCard  5378288959479886  675   12/2016        O+      94.5   \n",
       "\n",
       "      Centimeters  \n",
       "0             183  \n",
       "77788         176  \n",
       "87332         173  \n",
       "89374         170  "
      ]
     },
     "execution_count": 21,
     "metadata": {},
     "output_type": "execute_result"
    }
   ],
   "source": [
    "data.loc[data['Name'] == 'Dewei Tuan']"
   ]
  },
  {
   "cell_type": "code",
   "execution_count": 22,
   "metadata": {},
   "outputs": [],
   "source": [
    "data.loc[data['Centimeters'] == 'female', ['Centimeters']] = ' '"
   ]
  },
  {
   "cell_type": "code",
   "execution_count": 23,
   "metadata": {},
   "outputs": [],
   "source": [
    "data.loc[data['Centimeters'] == ' ',['Centimeters']] = np.nan"
   ]
  },
  {
   "cell_type": "code",
   "execution_count": 24,
   "metadata": {},
   "outputs": [
    {
     "data": {
      "text/html": [
       "<div>\n",
       "<style scoped>\n",
       "    .dataframe tbody tr th:only-of-type {\n",
       "        vertical-align: middle;\n",
       "    }\n",
       "\n",
       "    .dataframe tbody tr th {\n",
       "        vertical-align: top;\n",
       "    }\n",
       "\n",
       "    .dataframe thead th {\n",
       "        text-align: right;\n",
       "    }\n",
       "</style>\n",
       "<table border=\"1\" class=\"dataframe\">\n",
       "  <thead>\n",
       "    <tr style=\"text-align: right;\">\n",
       "      <th></th>\n",
       "      <th>Number</th>\n",
       "      <th>Gender</th>\n",
       "      <th>Title</th>\n",
       "      <th>Name</th>\n",
       "      <th>Address</th>\n",
       "      <th>ZipCode</th>\n",
       "      <th>EmailAddress</th>\n",
       "      <th>Username</th>\n",
       "      <th>Password</th>\n",
       "      <th>Birthday</th>\n",
       "      <th>CCType</th>\n",
       "      <th>CCNumber</th>\n",
       "      <th>CVV2</th>\n",
       "      <th>CCExpires</th>\n",
       "      <th>BloodType</th>\n",
       "      <th>Kilograms</th>\n",
       "      <th>Centimeters</th>\n",
       "    </tr>\n",
       "  </thead>\n",
       "  <tbody>\n",
       "    <tr>\n",
       "      <th>2637</th>\n",
       "      <td>2639.0</td>\n",
       "      <td>female</td>\n",
       "      <td>Ms.</td>\n",
       "      <td>Yun 2640</td>\n",
       "      <td>female</td>\n",
       "      <td>Ms.</td>\n",
       "      <td>Nick</td>\n",
       "      <td>2641</td>\n",
       "      <td>female</td>\n",
       "      <td>Mrs.</td>\n",
       "      <td>Sophie</td>\n",
       "      <td>2642</td>\n",
       "      <td>female</td>\n",
       "      <td>Mrs.</td>\n",
       "      <td>Greta</td>\n",
       "      <td>2643</td>\n",
       "      <td>NaN</td>\n",
       "    </tr>\n",
       "  </tbody>\n",
       "</table>\n",
       "</div>"
      ],
      "text/plain": [
       "      Number  Gender Title      Name Address ZipCode EmailAddress Username  \\\n",
       "2637  2639.0  female   Ms.  Yun 2640  female     Ms.         Nick     2641   \n",
       "\n",
       "     Password Birthday  CCType CCNumber    CVV2 CCExpires BloodType Kilograms  \\\n",
       "2637   female     Mrs.  Sophie     2642  female      Mrs.     Greta      2643   \n",
       "\n",
       "     Centimeters  \n",
       "2637         NaN  "
      ]
     },
     "execution_count": 24,
     "metadata": {},
     "output_type": "execute_result"
    }
   ],
   "source": [
    "data.loc[data['BloodType'] == 'Greta']"
   ]
  },
  {
   "cell_type": "code",
   "execution_count": 25,
   "metadata": {},
   "outputs": [],
   "source": [
    "data = data.dropna()"
   ]
  },
  {
   "cell_type": "code",
   "execution_count": 26,
   "metadata": {},
   "outputs": [
    {
     "data": {
      "text/html": [
       "<div>\n",
       "<style scoped>\n",
       "    .dataframe tbody tr th:only-of-type {\n",
       "        vertical-align: middle;\n",
       "    }\n",
       "\n",
       "    .dataframe tbody tr th {\n",
       "        vertical-align: top;\n",
       "    }\n",
       "\n",
       "    .dataframe thead th {\n",
       "        text-align: right;\n",
       "    }\n",
       "</style>\n",
       "<table border=\"1\" class=\"dataframe\">\n",
       "  <thead>\n",
       "    <tr style=\"text-align: right;\">\n",
       "      <th></th>\n",
       "      <th>Number</th>\n",
       "      <th>Gender</th>\n",
       "      <th>Title</th>\n",
       "      <th>Name</th>\n",
       "      <th>Address</th>\n",
       "      <th>ZipCode</th>\n",
       "      <th>EmailAddress</th>\n",
       "      <th>Username</th>\n",
       "      <th>Password</th>\n",
       "      <th>Birthday</th>\n",
       "      <th>CCType</th>\n",
       "      <th>CCNumber</th>\n",
       "      <th>CVV2</th>\n",
       "      <th>CCExpires</th>\n",
       "      <th>BloodType</th>\n",
       "      <th>Kilograms</th>\n",
       "      <th>Centimeters</th>\n",
       "    </tr>\n",
       "  </thead>\n",
       "  <tbody>\n",
       "    <tr>\n",
       "      <th>33196</th>\n",
       "      <td>33201.0</td>\n",
       "      <td>male</td>\n",
       "      <td>Mr.</td>\n",
       "      <td>Albert Bezrukov</td>\n",
       "      <td>32 Ings Lane, DEAN, UK</td>\n",
       "      <td>CA14 0QB</td>\n",
       "      <td>AlbertBezrukov@teleworm.us</td>\n",
       "      <td>Unterequan</td>\n",
       "      <td>zahChai</td>\n",
       "      <td>j7kai</td>\n",
       "      <td>3/29/1986</td>\n",
       "      <td>Visa</td>\n",
       "      <td>4.53206e+15</td>\n",
       "      <td>707</td>\n",
       "      <td>6/2020</td>\n",
       "      <td>O+</td>\n",
       "      <td>#REF!</td>\n",
       "    </tr>\n",
       "  </tbody>\n",
       "</table>\n",
       "</div>"
      ],
      "text/plain": [
       "        Number Gender Title             Name                  Address  \\\n",
       "33196  33201.0   male   Mr.  Albert Bezrukov  32 Ings Lane, DEAN, UK    \n",
       "\n",
       "        ZipCode                EmailAddress    Username Password Birthday  \\\n",
       "33196  CA14 0QB  AlbertBezrukov@teleworm.us  Unterequan  zahChai    j7kai   \n",
       "\n",
       "          CCType CCNumber         CVV2 CCExpires BloodType Kilograms  \\\n",
       "33196  3/29/1986     Visa  4.53206e+15       707    6/2020        O+   \n",
       "\n",
       "      Centimeters  \n",
       "33196       #REF!  "
      ]
     },
     "execution_count": 26,
     "metadata": {},
     "output_type": "execute_result"
    }
   ],
   "source": [
    "data.loc[data['Centimeters'] == '#REF!']"
   ]
  },
  {
   "cell_type": "code",
   "execution_count": 27,
   "metadata": {},
   "outputs": [
    {
     "name": "stderr",
     "output_type": "stream",
     "text": [
      "c:\\program files\\python36\\lib\\site-packages\\pandas\\core\\indexing.py:966: SettingWithCopyWarning: \n",
      "A value is trying to be set on a copy of a slice from a DataFrame.\n",
      "Try using .loc[row_indexer,col_indexer] = value instead\n",
      "\n",
      "See the caveats in the documentation: https://pandas.pydata.org/pandas-docs/stable/user_guide/indexing.html#returning-a-view-versus-a-copy\n",
      "  self.obj[item] = s\n"
     ]
    }
   ],
   "source": [
    "data.loc[data['Centimeters'] == '#REF!', ['Birthday']] = 3/29/1986\n",
    "data.loc[data['Centimeters'] == '#REF!', ['CCType']] = 'Visa'\n",
    "data.loc[data['Centimeters'] == '#REF!', ['CCNumber']] = '4532062269162987'\n",
    "data.loc[data['Centimeters'] == '#REF!', ['CVV2']] = 707\n",
    "data.loc[data['Centimeters'] == '#REF!', ['CCExpires']] = '6/2020'\n",
    "data.loc[data['Centimeters'] == '#REF!', ['BloodType']] = 'O+'\n",
    "data.loc[data['Centimeters'] == '#REF!', ['Kilograms']] = 101.3\n",
    "data.loc[data['Centimeters'] == '#REF!', ['Centimeters']] = 182"
   ]
  },
  {
   "cell_type": "code",
   "execution_count": 28,
   "metadata": {},
   "outputs": [
    {
     "data": {
      "text/html": [
       "<div>\n",
       "<style scoped>\n",
       "    .dataframe tbody tr th:only-of-type {\n",
       "        vertical-align: middle;\n",
       "    }\n",
       "\n",
       "    .dataframe tbody tr th {\n",
       "        vertical-align: top;\n",
       "    }\n",
       "\n",
       "    .dataframe thead th {\n",
       "        text-align: right;\n",
       "    }\n",
       "</style>\n",
       "<table border=\"1\" class=\"dataframe\">\n",
       "  <thead>\n",
       "    <tr style=\"text-align: right;\">\n",
       "      <th></th>\n",
       "      <th>Number</th>\n",
       "      <th>Gender</th>\n",
       "      <th>Title</th>\n",
       "      <th>Name</th>\n",
       "      <th>Address</th>\n",
       "      <th>ZipCode</th>\n",
       "      <th>EmailAddress</th>\n",
       "      <th>Username</th>\n",
       "      <th>Password</th>\n",
       "      <th>Birthday</th>\n",
       "      <th>CCType</th>\n",
       "      <th>CCNumber</th>\n",
       "      <th>CVV2</th>\n",
       "      <th>CCExpires</th>\n",
       "      <th>BloodType</th>\n",
       "      <th>Kilograms</th>\n",
       "      <th>Centimeters</th>\n",
       "    </tr>\n",
       "  </thead>\n",
       "  <tbody>\n",
       "    <tr>\n",
       "      <th>11770</th>\n",
       "      <td>11775.0</td>\n",
       "      <td>male</td>\n",
       "      <td>Dr.</td>\n",
       "      <td>Kang Hsia</td>\n",
       "      <td>39 Argyll Road, LLAN, UK</td>\n",
       "      <td>SY19 2JW</td>\n",
       "      <td>KangHsia@teleworm.us</td>\n",
       "      <td>Composidand</td>\n",
       "      <td>doCii5Weloo</td>\n",
       "      <td>3/29/1986</td>\n",
       "      <td>MasterCard</td>\n",
       "      <td>5134230314576985</td>\n",
       "      <td>473</td>\n",
       "      <td>7/2017</td>\n",
       "      <td>O+</td>\n",
       "      <td>#REF!</td>\n",
       "      <td>178</td>\n",
       "    </tr>\n",
       "    <tr>\n",
       "      <th>19923</th>\n",
       "      <td>19928.0</td>\n",
       "      <td>female</td>\n",
       "      <td>Mrs.</td>\n",
       "      <td>Euphrosyne Kotova</td>\n",
       "      <td>78 Wrexham Road, FERNDOWN, UK</td>\n",
       "      <td>BH22 2ZW</td>\n",
       "      <td>EuphrosyneKotova@fleckens.hu</td>\n",
       "      <td>Hasurseen</td>\n",
       "      <td>aizieFoo4th</td>\n",
       "      <td>3/29/1986</td>\n",
       "      <td>MasterCard</td>\n",
       "      <td>5155404262833524</td>\n",
       "      <td>211</td>\n",
       "      <td>4/2016</td>\n",
       "      <td>O+</td>\n",
       "      <td>101.3</td>\n",
       "      <td>154</td>\n",
       "    </tr>\n",
       "    <tr>\n",
       "      <th>20916</th>\n",
       "      <td>20921.0</td>\n",
       "      <td>female</td>\n",
       "      <td>Ms.</td>\n",
       "      <td>Anna Hopkins</td>\n",
       "      <td>56 Osborne Road, KILPATRICK, UK</td>\n",
       "      <td>KA27 1EH</td>\n",
       "      <td>AnnaHopkins@rhyta.com</td>\n",
       "      <td>Lestoregre</td>\n",
       "      <td>ePhee4eich!</td>\n",
       "      <td>3/29/1986</td>\n",
       "      <td>Visa</td>\n",
       "      <td>4716176609088823</td>\n",
       "      <td>611</td>\n",
       "      <td>3/2019</td>\n",
       "      <td>O+</td>\n",
       "      <td>92.5</td>\n",
       "      <td>171</td>\n",
       "    </tr>\n",
       "    <tr>\n",
       "      <th>46955</th>\n",
       "      <td>46960.0</td>\n",
       "      <td>female</td>\n",
       "      <td>Ms.</td>\n",
       "      <td>Miroslav Matveyeva</td>\n",
       "      <td>66 Harrogate Road, SACKERS GREEN, UK</td>\n",
       "      <td>CO10 6BG</td>\n",
       "      <td>MiroslavMatveyeva@fleckens.hu</td>\n",
       "      <td>Erepaing</td>\n",
       "      <td>aeNgeiv2se</td>\n",
       "      <td>3/29/1986</td>\n",
       "      <td>Visa</td>\n",
       "      <td>4532348856188158</td>\n",
       "      <td>456</td>\n",
       "      <td>2/2020</td>\n",
       "      <td>O+</td>\n",
       "      <td>91.5</td>\n",
       "      <td>168</td>\n",
       "    </tr>\n",
       "    <tr>\n",
       "      <th>72829</th>\n",
       "      <td>72834.0</td>\n",
       "      <td>female</td>\n",
       "      <td>Mrs.</td>\n",
       "      <td>An Ch'ang</td>\n",
       "      <td>7 Whitby Road, DENDRON, UK</td>\n",
       "      <td>LA13 6GJ</td>\n",
       "      <td>AnChang@armyspy.com</td>\n",
       "      <td>Hiceivien</td>\n",
       "      <td>nieCh5Coh</td>\n",
       "      <td>3/29/1986</td>\n",
       "      <td>MasterCard</td>\n",
       "      <td>5387711705076382</td>\n",
       "      <td>958</td>\n",
       "      <td>1/2019</td>\n",
       "      <td>O+</td>\n",
       "      <td>79.1</td>\n",
       "      <td>159</td>\n",
       "    </tr>\n",
       "    <tr>\n",
       "      <th>78907</th>\n",
       "      <td>78912.0</td>\n",
       "      <td>male</td>\n",
       "      <td>Mr.</td>\n",
       "      <td>Finley Stevenson</td>\n",
       "      <td>52 Neville Street, ILKETSHALL ST MARGARET, UK</td>\n",
       "      <td>NR35 0DR</td>\n",
       "      <td>FinleyStevenson@jourrapide.com</td>\n",
       "      <td>Torandready</td>\n",
       "      <td>Queesoi3iej</td>\n",
       "      <td>3/29/1986</td>\n",
       "      <td>Visa</td>\n",
       "      <td>4716374312198308</td>\n",
       "      <td>610</td>\n",
       "      <td>8/2020</td>\n",
       "      <td>O+</td>\n",
       "      <td>89.9</td>\n",
       "      <td>171</td>\n",
       "    </tr>\n",
       "  </tbody>\n",
       "</table>\n",
       "</div>"
      ],
      "text/plain": [
       "        Number  Gender Title                Name  \\\n",
       "11770  11775.0    male   Dr.           Kang Hsia   \n",
       "19923  19928.0  female  Mrs.   Euphrosyne Kotova   \n",
       "20916  20921.0  female   Ms.        Anna Hopkins   \n",
       "46955  46960.0  female   Ms.  Miroslav Matveyeva   \n",
       "72829  72834.0  female  Mrs.           An Ch'ang   \n",
       "78907  78912.0    male   Mr.    Finley Stevenson   \n",
       "\n",
       "                                              Address   ZipCode  \\\n",
       "11770                       39 Argyll Road, LLAN, UK   SY19 2JW   \n",
       "19923                  78 Wrexham Road, FERNDOWN, UK   BH22 2ZW   \n",
       "20916                56 Osborne Road, KILPATRICK, UK   KA27 1EH   \n",
       "46955           66 Harrogate Road, SACKERS GREEN, UK   CO10 6BG   \n",
       "72829                     7 Whitby Road, DENDRON, UK   LA13 6GJ   \n",
       "78907  52 Neville Street, ILKETSHALL ST MARGARET, UK   NR35 0DR   \n",
       "\n",
       "                         EmailAddress     Username     Password   Birthday  \\\n",
       "11770            KangHsia@teleworm.us  Composidand  doCii5Weloo  3/29/1986   \n",
       "19923    EuphrosyneKotova@fleckens.hu    Hasurseen  aizieFoo4th  3/29/1986   \n",
       "20916           AnnaHopkins@rhyta.com   Lestoregre  ePhee4eich!  3/29/1986   \n",
       "46955   MiroslavMatveyeva@fleckens.hu     Erepaing   aeNgeiv2se  3/29/1986   \n",
       "72829             AnChang@armyspy.com    Hiceivien    nieCh5Coh  3/29/1986   \n",
       "78907  FinleyStevenson@jourrapide.com  Torandready  Queesoi3iej  3/29/1986   \n",
       "\n",
       "           CCType          CCNumber CVV2 CCExpires BloodType Kilograms  \\\n",
       "11770  MasterCard  5134230314576985  473    7/2017        O+     #REF!   \n",
       "19923  MasterCard  5155404262833524  211    4/2016        O+     101.3   \n",
       "20916        Visa  4716176609088823  611    3/2019        O+      92.5   \n",
       "46955        Visa  4532348856188158  456    2/2020        O+      91.5   \n",
       "72829  MasterCard  5387711705076382  958    1/2019        O+      79.1   \n",
       "78907        Visa  4716374312198308  610    8/2020        O+      89.9   \n",
       "\n",
       "      Centimeters  \n",
       "11770         178  \n",
       "19923         154  \n",
       "20916         171  \n",
       "46955         168  \n",
       "72829         159  \n",
       "78907         171  "
      ]
     },
     "execution_count": 28,
     "metadata": {},
     "output_type": "execute_result"
    }
   ],
   "source": [
    "data.loc[data['Birthday'] == '3/29/1986']"
   ]
  },
  {
   "cell_type": "code",
   "execution_count": 29,
   "metadata": {},
   "outputs": [
    {
     "data": {
      "text/html": [
       "<div>\n",
       "<style scoped>\n",
       "    .dataframe tbody tr th:only-of-type {\n",
       "        vertical-align: middle;\n",
       "    }\n",
       "\n",
       "    .dataframe tbody tr th {\n",
       "        vertical-align: top;\n",
       "    }\n",
       "\n",
       "    .dataframe thead th {\n",
       "        text-align: right;\n",
       "    }\n",
       "</style>\n",
       "<table border=\"1\" class=\"dataframe\">\n",
       "  <thead>\n",
       "    <tr style=\"text-align: right;\">\n",
       "      <th></th>\n",
       "      <th>Number</th>\n",
       "      <th>Gender</th>\n",
       "      <th>Title</th>\n",
       "      <th>Name</th>\n",
       "      <th>Address</th>\n",
       "      <th>ZipCode</th>\n",
       "      <th>EmailAddress</th>\n",
       "      <th>Username</th>\n",
       "      <th>Password</th>\n",
       "      <th>Birthday</th>\n",
       "      <th>CCType</th>\n",
       "      <th>CCNumber</th>\n",
       "      <th>CVV2</th>\n",
       "      <th>CCExpires</th>\n",
       "      <th>BloodType</th>\n",
       "      <th>Kilograms</th>\n",
       "      <th>Centimeters</th>\n",
       "    </tr>\n",
       "  </thead>\n",
       "  <tbody>\n",
       "    <tr>\n",
       "      <th>76923</th>\n",
       "      <td>76928.0</td>\n",
       "      <td>male</td>\n",
       "      <td>Mr.</td>\n",
       "      <td>Ethan Gould</td>\n",
       "      <td>73 Thornton St</td>\n",
       "      <td>HUNTINGFORD</td>\n",
       "      <td>UK \"</td>\n",
       "      <td>SP8 7BZ</td>\n",
       "      <td>EthanGould@gustr.com</td>\n",
       "      <td>Faid1946</td>\n",
       "      <td>eiM6quaeT4</td>\n",
       "      <td>8/3/1946</td>\n",
       "      <td>MasterCard</td>\n",
       "      <td>5319282120541510</td>\n",
       "      <td>678</td>\n",
       "      <td>1/2017</td>\n",
       "      <td>A+</td>\n",
       "    </tr>\n",
       "  </tbody>\n",
       "</table>\n",
       "</div>"
      ],
      "text/plain": [
       "        Number Gender Title         Name         Address       ZipCode  \\\n",
       "76923  76928.0   male   Mr.  Ethan Gould  73 Thornton St   HUNTINGFORD   \n",
       "\n",
       "      EmailAddress Username              Password  Birthday      CCType  \\\n",
       "76923         UK \"  SP8 7BZ  EthanGould@gustr.com  Faid1946  eiM6quaeT4   \n",
       "\n",
       "       CCNumber        CVV2         CCExpires BloodType Kilograms Centimeters  \n",
       "76923  8/3/1946  MasterCard  5319282120541510       678    1/2017          A+  "
      ]
     },
     "execution_count": 29,
     "metadata": {},
     "output_type": "execute_result"
    }
   ],
   "source": [
    "data.loc[data['Centimeters'] == 'A+']"
   ]
  },
  {
   "cell_type": "code",
   "execution_count": 30,
   "metadata": {},
   "outputs": [
    {
     "name": "stderr",
     "output_type": "stream",
     "text": [
      "c:\\program files\\python36\\lib\\site-packages\\pandas\\core\\indexing.py:966: SettingWithCopyWarning: \n",
      "A value is trying to be set on a copy of a slice from a DataFrame.\n",
      "Try using .loc[row_indexer,col_indexer] = value instead\n",
      "\n",
      "See the caveats in the documentation: https://pandas.pydata.org/pandas-docs/stable/user_guide/indexing.html#returning-a-view-versus-a-copy\n",
      "  self.obj[item] = s\n"
     ]
    }
   ],
   "source": [
    "data.loc[data['Centimeters'] == 'A+', ['EmailAddress']] = 'EthanGould@gustr.com'\n",
    "data.loc[data['Centimeters'] == 'A+', ['Username']] = 'Faid1946'\n",
    "data.loc[data['Centimeters'] == 'A+', ['Password']] = 'eiM6quaeT4'\n",
    "data.loc[data['Centimeters'] == 'A+', ['Address']] = '73 Thornton St, HUNTINGFORD, UK'\n",
    "data.loc[data['Centimeters'] == 'A+', ['ZipCode']] = 'SP8 7BZ'\n",
    "data.loc[data['Centimeters'] == 'A+', ['Birthday']] = 8/3/1946\n",
    "data.loc[data['Centimeters'] == 'A+', ['CCType']] = 'MasterCard'\n",
    "data.loc[data['Centimeters'] == 'A+', ['CCNumber']] = '5319282120541510'\n",
    "data.loc[data['Centimeters'] == 'A+', ['CVV2']] = 678\n",
    "data.loc[data['Centimeters'] == 'A+', ['CCExpires']] = '1/2017'\n",
    "data.loc[data['Centimeters'] == 'A+', ['BloodType']] = 'A+'\n",
    "data.loc[data['Centimeters'] == 'A+', ['Kilograms']] = 108.5\n",
    "data.loc[data['Centimeters'] == 'A+', ['Centimeters']] = 184"
   ]
  },
  {
   "cell_type": "code",
   "execution_count": 31,
   "metadata": {},
   "outputs": [],
   "source": [
    "data =data.loc[data['Centimeters'] != 'O+']"
   ]
  },
  {
   "cell_type": "code",
   "execution_count": 32,
   "metadata": {},
   "outputs": [],
   "source": [
    "data['Centimeters'] = pd.to_numeric(data['Centimeters'])"
   ]
  },
  {
   "cell_type": "code",
   "execution_count": 33,
   "metadata": {},
   "outputs": [],
   "source": [
    "data.loc[data['Kilograms'] == '#REF!',['Kilograms']] = 0"
   ]
  },
  {
   "cell_type": "code",
   "execution_count": 34,
   "metadata": {},
   "outputs": [],
   "source": [
    "data = data.loc[data['Kilograms'] != 'A-']"
   ]
  },
  {
   "cell_type": "code",
   "execution_count": 35,
   "metadata": {},
   "outputs": [],
   "source": [
    "data['Kilograms'] = pd.to_numeric(data['Kilograms'])"
   ]
  },
  {
   "cell_type": "code",
   "execution_count": 36,
   "metadata": {},
   "outputs": [],
   "source": [
    "data['Birthday'] = pd.to_datetime(data['Birthday'])"
   ]
  },
  {
   "cell_type": "code",
   "execution_count": 37,
   "metadata": {},
   "outputs": [],
   "source": [
    "data['CCExpires'] = pd.to_datetime(data['CCExpires'])"
   ]
  },
  {
   "cell_type": "code",
   "execution_count": 38,
   "metadata": {},
   "outputs": [],
   "source": [
    "data['CCNumber'] = pd.to_numeric(data['CCNumber'])"
   ]
  },
  {
   "cell_type": "code",
   "execution_count": 39,
   "metadata": {},
   "outputs": [],
   "source": [
    "data['CCExpires'] = pd.to_datetime(data['CCExpires'])"
   ]
  },
  {
   "cell_type": "code",
   "execution_count": 40,
   "metadata": {},
   "outputs": [],
   "source": [
    "data['CVV2'] = pd.to_numeric(data['CVV2'])"
   ]
  },
  {
   "cell_type": "code",
   "execution_count": null,
   "metadata": {},
   "outputs": [],
   "source": []
  },
  {
   "cell_type": "code",
   "execution_count": 41,
   "metadata": {},
   "outputs": [],
   "source": [
    "data.to_csv('./Fakenames_refined.csv', index=False)"
   ]
  },
  {
   "cell_type": "code",
   "execution_count": 42,
   "metadata": {},
   "outputs": [
    {
     "name": "stdout",
     "output_type": "stream",
     "text": [
      "<class 'pandas.core.frame.DataFrame'>\n",
      "Int64Index: 97058 entries, 0 to 98526\n",
      "Data columns (total 17 columns):\n",
      " #   Column        Non-Null Count  Dtype         \n",
      "---  ------        --------------  -----         \n",
      " 0   Number        97058 non-null  float64       \n",
      " 1   Gender        97058 non-null  object        \n",
      " 2   Title         97058 non-null  object        \n",
      " 3   Name          97058 non-null  object        \n",
      " 4   Address       97058 non-null  object        \n",
      " 5   ZipCode       97058 non-null  object        \n",
      " 6   EmailAddress  97058 non-null  object        \n",
      " 7   Username      97058 non-null  object        \n",
      " 8   Password      97058 non-null  object        \n",
      " 9   Birthday      97058 non-null  datetime64[ns]\n",
      " 10  CCType        97058 non-null  object        \n",
      " 11  CCNumber      97058 non-null  int64         \n",
      " 12  CVV2          97058 non-null  float64       \n",
      " 13  CCExpires     97058 non-null  datetime64[ns]\n",
      " 14  BloodType     97058 non-null  object        \n",
      " 15  Kilograms     97058 non-null  float64       \n",
      " 16  Centimeters   97058 non-null  float64       \n",
      "dtypes: datetime64[ns](2), float64(4), int64(1), object(10)\n",
      "memory usage: 13.3+ MB\n"
     ]
    }
   ],
   "source": [
    "data.info()"
   ]
  },
  {
   "cell_type": "code",
   "execution_count": null,
   "metadata": {},
   "outputs": [],
   "source": []
  },
  {
   "cell_type": "code",
   "execution_count": null,
   "metadata": {},
   "outputs": [],
   "source": []
  },
  {
   "cell_type": "code",
   "execution_count": null,
   "metadata": {},
   "outputs": [],
   "source": []
  },
  {
   "cell_type": "code",
   "execution_count": 43,
   "metadata": {},
   "outputs": [],
   "source": [
    "from scipy import stats"
   ]
  },
  {
   "cell_type": "markdown",
   "metadata": {},
   "source": [
    "EAD ---- Exploratory Data analysis."
   ]
  },
  {
   "cell_type": "markdown",
   "metadata": {},
   "source": [
    "Converting Centimeter to meters"
   ]
  },
  {
   "cell_type": "code",
   "execution_count": 44,
   "metadata": {},
   "outputs": [],
   "source": [
    "data['meters'] = data['Centimeters'] / 100"
   ]
  },
  {
   "cell_type": "code",
   "execution_count": 45,
   "metadata": {},
   "outputs": [],
   "source": [
    "data['BMI'] = round(data['Kilograms']/data['meters']**2,1)"
   ]
  },
  {
   "cell_type": "code",
   "execution_count": 46,
   "metadata": {},
   "outputs": [],
   "source": [
    "data['Age'] = 2020 - data['Birthday'].dt.year"
   ]
  },
  {
   "cell_type": "code",
   "execution_count": 47,
   "metadata": {},
   "outputs": [
    {
     "data": {
      "image/png": "[encoded data removed]",
      "text/plain": [
       "<Figure size 504x288 with 1 Axes>"
      ]
     },
     "metadata": {},
     "output_type": "display_data"
    }
   ],
   "source": [
    "#checking the distribution of the column 'BMI'\n",
    "#There seem to be a hump around the 0-scale\n",
    "with plt.style.context('seaborn'):\n",
    "    plt.figure(figsize=(7,4))\n",
    "    plt.hist(data['BMI'], bins=20, edgecolor='black', label='BMI')\n",
    "    plt.legend()"
   ]
  },
  {
   "cell_type": "code",
   "execution_count": 48,
   "metadata": {},
   "outputs": [
    {
     "data": {
      "image/png": "[encoded data removed]",
      "text/plain": [
       "<Figure size 504x288 with 1 Axes>"
      ]
     },
     "metadata": {},
     "output_type": "display_data"
    }
   ],
   "source": [
    "#checking the distribution of the column 'Kilograms'\n",
    "#There seem to be a hump around the 0-scale\n",
    "with plt.style.context('seaborn'):\n",
    "    plt.figure(figsize=(7,4))\n",
    "    plt.hist(data['Kilograms'], bins=20, edgecolor='black', label='Kilograms')\n",
    "    plt.legend()"
   ]
  },
  {
   "cell_type": "code",
   "execution_count": 49,
   "metadata": {},
   "outputs": [
    {
     "data": {
      "image/png": "[encoded data removed]",
      "text/plain": [
       "<Figure size 504x288 with 1 Axes>"
      ]
     },
     "metadata": {},
     "output_type": "display_data"
    }
   ],
   "source": [
    "#checking the distribution of the column 'Meters'\n",
    "with plt.style.context('seaborn'):\n",
    "    plt.figure(figsize=(7,4))\n",
    "    plt.hist(data['meters'], bins=20, edgecolor='black', label='meters')\n",
    "    plt.legend()"
   ]
  },
  {
   "cell_type": "code",
   "execution_count": null,
   "metadata": {},
   "outputs": [],
   "source": []
  },
  {
   "cell_type": "markdown",
   "metadata": {},
   "source": [
    "Checking in BMI, if we have data on 0-scale"
   ]
  },
  {
   "cell_type": "code",
   "execution_count": 50,
   "metadata": {},
   "outputs": [
    {
     "data": {
      "text/plain": [
       "7763"
      ]
     },
     "execution_count": 50,
     "metadata": {},
     "output_type": "execute_result"
    }
   ],
   "source": [
    "#7763 rows have 0-scale\n",
    "#if we fill it up with mode/mean/median\n",
    "#the rows are far too many to fill up\n",
    "#the data will be Biased\n",
    "len(data.loc[data['Kilograms'] == 0])"
   ]
  },
  {
   "cell_type": "code",
   "execution_count": 51,
   "metadata": {},
   "outputs": [
    {
     "data": {
      "text/plain": [
       "7763"
      ]
     },
     "execution_count": 51,
     "metadata": {},
     "output_type": "execute_result"
    }
   ],
   "source": [
    "len(data.loc[data['BMI'] == 0])"
   ]
  },
  {
   "cell_type": "code",
   "execution_count": 52,
   "metadata": {},
   "outputs": [
    {
     "data": {
      "text/plain": [
       "male    7763\n",
       "Name: Gender, dtype: int64"
      ]
     },
     "execution_count": 52,
     "metadata": {},
     "output_type": "execute_result"
    }
   ],
   "source": [
    "#Checking the 0-scale distribution among genders\n",
    "data.loc[data['Kilograms'] == 0]['Gender'].value_counts()"
   ]
  },
  {
   "cell_type": "code",
   "execution_count": null,
   "metadata": {},
   "outputs": [],
   "source": []
  },
  {
   "cell_type": "markdown",
   "metadata": {},
   "source": [
    "Dropping the '0' scale in the kilograms"
   ]
  },
  {
   "cell_type": "code",
   "execution_count": 53,
   "metadata": {},
   "outputs": [],
   "source": [
    "data = data.loc[data['Kilograms'] != 0]"
   ]
  },
  {
   "cell_type": "code",
   "execution_count": null,
   "metadata": {},
   "outputs": [],
   "source": []
  },
  {
   "cell_type": "code",
   "execution_count": 54,
   "metadata": {},
   "outputs": [
    {
     "data": {
      "image/png": "[encoded data removed]",
      "text/plain": [
       "<Figure size 504x288 with 1 Axes>"
      ]
     },
     "metadata": {},
     "output_type": "display_data"
    }
   ],
   "source": [
    "#The new distribution of BMI'\n",
    "with plt.style.context('seaborn'):\n",
    "    plt.figure(figsize=(7,4))\n",
    "    plt.hist(data['BMI'], bins=30, edgecolor='black', label='BMI')\n",
    "    plt.legend()\n",
    "    plt.show()"
   ]
  },
  {
   "cell_type": "code",
   "execution_count": 55,
   "metadata": {},
   "outputs": [
    {
     "data": {
      "image/png": "[encoded data removed]",
      "text/plain": [
       "<Figure size 504x288 with 1 Axes>"
      ]
     },
     "metadata": {},
     "output_type": "display_data"
    }
   ],
   "source": [
    "#The new distribution of Kilogram'\n",
    "with plt.style.context('seaborn'):\n",
    "    plt.figure(figsize=(7,4))\n",
    "    plt.hist(data['Kilograms'], bins=30, edgecolor='black', label='BMI')\n",
    "    plt.legend()\n",
    "    plt.show()"
   ]
  },
  {
   "cell_type": "code",
   "execution_count": null,
   "metadata": {},
   "outputs": [],
   "source": []
  },
  {
   "cell_type": "code",
   "execution_count": null,
   "metadata": {},
   "outputs": [],
   "source": []
  },
  {
   "cell_type": "markdown",
   "metadata": {},
   "source": [
    "QUESTION 1. Find the similarities and differences of the patients' gender based on their BMI. Test for the assumptions and use the right statistical tool."
   ]
  },
  {
   "cell_type": "code",
   "execution_count": 56,
   "metadata": {},
   "outputs": [],
   "source": [
    "#Data categorised based on Genders\n",
    "female = data.loc[data['Gender'] == 'female']\n",
    "male = data.loc[data['Gender'] != 'female']"
   ]
  },
  {
   "cell_type": "code",
   "execution_count": 57,
   "metadata": {},
   "outputs": [
    {
     "data": {
      "text/plain": [
       "(28.84344035456418, 29.91943204966534)"
      ]
     },
     "execution_count": 57,
     "metadata": {},
     "output_type": "execute_result"
    }
   ],
   "source": [
    "#Checking the difference of the both Gender's Body Mass Index thru Mean,\n",
    "#Using the 'Mean', there's a difference between both Genders\n",
    "female['BMI'].mean(), male['BMI'].mean()"
   ]
  },
  {
   "cell_type": "code",
   "execution_count": 58,
   "metadata": {},
   "outputs": [],
   "source": [
    "#Using 'Independent t-Test'\n",
    "#We want to see, if they BMI is statiscally Different Based on BMI\n",
    "#Having compared mean of both Gender,we want to use the independent t-test, to know, if the difference is statiscally significant or Not\n",
    "#NB: 'equal_var' was set to FALSE bcux both gender mean were different, so they share no similar variance.\n",
    "answer1 = stats.ttest_ind(a=female['BMI'], b=male['BMI'], equal_var=False)"
   ]
  },
  {
   "cell_type": "code",
   "execution_count": 59,
   "metadata": {},
   "outputs": [
    {
     "data": {
      "text/plain": [
       "Ttest_indResult(statistic=-25.839334949131665, pvalue=1.1260595368497093e-146)"
      ]
     },
     "execution_count": 59,
     "metadata": {},
     "output_type": "execute_result"
    }
   ],
   "source": [
    "#Our p-value is 1.\n",
    "#This means that the Gender BMI,are similar \n",
    "answer1"
   ]
  },
  {
   "cell_type": "code",
   "execution_count": 60,
   "metadata": {},
   "outputs": [
    {
     "data": {
      "image/png": "[encoded data removed]",
      "text/plain": [
       "<Figure size 576x396 with 1 Axes>"
      ]
     },
     "metadata": {},
     "output_type": "display_data"
    }
   ],
   "source": [
    "#Graphically shows similarity\n",
    "with plt.style.context('seaborn'):\n",
    "    plt.hist(data.groupby('Gender')['BMI'].sum(), stacked=True,)"
   ]
  },
  {
   "cell_type": "code",
   "execution_count": null,
   "metadata": {},
   "outputs": [],
   "source": []
  },
  {
   "cell_type": "code",
   "execution_count": null,
   "metadata": {},
   "outputs": [],
   "source": []
  },
  {
   "cell_type": "code",
   "execution_count": null,
   "metadata": {},
   "outputs": [],
   "source": []
  },
  {
   "cell_type": "markdown",
   "metadata": {},
   "source": [
    "Question 4. Find if there is a statistical difference between the gender and the patients' blood type."
   ]
  },
  {
   "cell_type": "code",
   "execution_count": 61,
   "metadata": {},
   "outputs": [
    {
     "data": {
      "text/html": [
       "<div>\n",
       "<style scoped>\n",
       "    .dataframe tbody tr th:only-of-type {\n",
       "        vertical-align: middle;\n",
       "    }\n",
       "\n",
       "    .dataframe tbody tr th {\n",
       "        vertical-align: top;\n",
       "    }\n",
       "\n",
       "    .dataframe thead th {\n",
       "        text-align: right;\n",
       "    }\n",
       "</style>\n",
       "<table border=\"1\" class=\"dataframe\">\n",
       "  <thead>\n",
       "    <tr style=\"text-align: right;\">\n",
       "      <th>BloodType</th>\n",
       "      <th>A+</th>\n",
       "      <th>A-</th>\n",
       "      <th>AB+</th>\n",
       "      <th>AB-</th>\n",
       "      <th>B+</th>\n",
       "      <th>B-</th>\n",
       "      <th>O+</th>\n",
       "      <th>O-</th>\n",
       "    </tr>\n",
       "    <tr>\n",
       "      <th>Gender</th>\n",
       "      <th></th>\n",
       "      <th></th>\n",
       "      <th></th>\n",
       "      <th></th>\n",
       "      <th></th>\n",
       "      <th></th>\n",
       "      <th></th>\n",
       "      <th></th>\n",
       "    </tr>\n",
       "  </thead>\n",
       "  <tbody>\n",
       "    <tr>\n",
       "      <th>female</th>\n",
       "      <td>12700</td>\n",
       "      <td>1619</td>\n",
       "      <td>2429</td>\n",
       "      <td>210</td>\n",
       "      <td>10709</td>\n",
       "      <td>698</td>\n",
       "      <td>17643</td>\n",
       "      <td>2051</td>\n",
       "    </tr>\n",
       "    <tr>\n",
       "      <th>male</th>\n",
       "      <td>12745</td>\n",
       "      <td>1707</td>\n",
       "      <td>2496</td>\n",
       "      <td>236</td>\n",
       "      <td>10896</td>\n",
       "      <td>702</td>\n",
       "      <td>10203</td>\n",
       "      <td>2251</td>\n",
       "    </tr>\n",
       "  </tbody>\n",
       "</table>\n",
       "</div>"
      ],
      "text/plain": [
       "BloodType     A+    A-   AB+  AB-     B+   B-     O+    O-\n",
       "Gender                                                    \n",
       "female     12700  1619  2429  210  10709  698  17643  2051\n",
       "male       12745  1707  2496  236  10896  702  10203  2251"
      ]
     },
     "execution_count": 61,
     "metadata": {},
     "output_type": "execute_result"
    }
   ],
   "source": [
    "#Creating a Frequency-Table for Efficient Analysis\n",
    "result = pd.crosstab(index=data['Gender'], columns=data['BloodType'])\n",
    "result"
   ]
  },
  {
   "cell_type": "code",
   "execution_count": 62,
   "metadata": {},
   "outputs": [
    {
     "name": "stdout",
     "output_type": "stream",
     "text": [
      "chi2==> 1490.9723900250676\n",
      "\n",
      "pvalue==> 0.0\n",
      "\n",
      "Degree of Freedom==> 7\n"
     ]
    }
   ],
   "source": [
    "#Using the Chisquare-test to test the association/similarity between Gender and their BloodGroup(two categorical variables)\n",
    "#Our P-value is 0.0, which means that they is a statistical difference b/w Gender & their bloodgroup\n",
    "chi2, pvalue, dof, expected = stats.chi2_contingency(result)\n",
    "print('chi2==>',chi2)\n",
    "print()\n",
    "print('pvalue==>',pvalue)\n",
    "print()\n",
    "print('Degree of Freedom==>',dof)"
   ]
  },
  {
   "cell_type": "code",
   "execution_count": 63,
   "metadata": {},
   "outputs": [
    {
     "data": {
      "image/png": "[encoded data removed]",
      "text/plain": [
       "<Figure size 720x288 with 1 Axes>"
      ]
     },
     "metadata": {},
     "output_type": "display_data"
    }
   ],
   "source": [
    "#Graphically there is no Similarities\n",
    "with plt.style.context('seaborn'):\n",
    "    plt.figure(figsize=(10,4))\n",
    "    plt.hist(female.BloodType, bins=10,color='pink',edgecolor='black', label='Female BloodType')\n",
    "    plt.legend()"
   ]
  },
  {
   "cell_type": "code",
   "execution_count": 64,
   "metadata": {},
   "outputs": [
    {
     "data": {
      "image/png": "[encoded data removed]",
      "text/plain": [
       "<Figure size 720x288 with 1 Axes>"
      ]
     },
     "metadata": {},
     "output_type": "display_data"
    }
   ],
   "source": [
    "with plt.style.context('seaborn'):\n",
    "    plt.figure(figsize=(10,4))\n",
    "    plt.hist(male.BloodType, bins=10, edgecolor='black', label='male BloodType')\n",
    "    plt.legend()"
   ]
  },
  {
   "cell_type": "code",
   "execution_count": null,
   "metadata": {},
   "outputs": [],
   "source": []
  },
  {
   "cell_type": "code",
   "execution_count": null,
   "metadata": {},
   "outputs": [],
   "source": []
  },
  {
   "cell_type": "markdown",
   "metadata": {},
   "source": [
    "Question 5. Find if there is a relationship between the patient's body weight and height."
   ]
  },
  {
   "cell_type": "code",
   "execution_count": 65,
   "metadata": {},
   "outputs": [
    {
     "data": {
      "text/plain": [
       "0.3251498963622617"
      ]
     },
     "execution_count": 65,
     "metadata": {},
     "output_type": "execute_result"
    }
   ],
   "source": [
    "#Using the Spearman coefficient to find, if there's a non-linear relationship between weight and height\n",
    "#with the result There isn't any relationship\n",
    "spearman, p = stats.spearmanr(data['Kilograms'], data['meters'])\n",
    "spearman"
   ]
  },
  {
   "cell_type": "code",
   "execution_count": 66,
   "metadata": {},
   "outputs": [
    {
     "data": {
      "text/plain": [
       "0.33455385321221565"
      ]
     },
     "execution_count": 66,
     "metadata": {},
     "output_type": "execute_result"
    }
   ],
   "source": [
    "#Using the Pearson coefficient to find, if there's a linear relationship between weight and height\n",
    "#Still no relationship\n",
    "pearson,p = stats.pearsonr(data['Kilograms'], data['meters'])\n",
    "pearson"
   ]
  },
  {
   "cell_type": "code",
   "execution_count": 67,
   "metadata": {},
   "outputs": [
    {
     "data": {
      "image/png": "[encoded data removed]",
      "text/plain": [
       "<Figure size 576x396 with 1 Axes>"
      ]
     },
     "metadata": {},
     "output_type": "display_data"
    }
   ],
   "source": [
    "#Graphically there's isn't any relationship\n",
    "#from the linear perceptive tho\n",
    "with plt.style.context('seaborn'):\n",
    "    sns.scatterplot(data['Kilograms'], data['Centimeters'])\n",
    "    plt.show()"
   ]
  },
  {
   "cell_type": "code",
   "execution_count": null,
   "metadata": {},
   "outputs": [],
   "source": []
  },
  {
   "cell_type": "code",
   "execution_count": 68,
   "metadata": {},
   "outputs": [],
   "source": [
    "#Thanks, this data isn't real"
   ]
  },
  {
   "cell_type": "code",
   "execution_count": null,
   "metadata": {},
   "outputs": [],
   "source": []
  },
  {
   "cell_type": "code",
   "execution_count": null,
   "metadata": {},
   "outputs": [],
   "source": []
  },
  {
   "cell_type": "code",
   "execution_count": null,
   "metadata": {},
   "outputs": [],
   "source": []
  }
 ],
 "metadata": {
  "kernelspec": {
   "display_name": "Python 3",
   "language": "python",
   "name": "python3"
  },
  "language_info": {
   "codemirror_mode": {
    "name": "ipython",
    "version": 3
   },
   "file_extension": ".py",
   "mimetype": "text/x-python",
   "name": "python",
   "nbconvert_exporter": "python",
   "pygments_lexer": "ipython3",
   "version": "3.6.8"
  }
 },
 "nbformat": 4,
 "nbformat_minor": 4
}
