{
 "cells": [
  {
   "cell_type": "code",
   "execution_count": null,
   "metadata": {},
   "outputs": [],
   "source": [
    "import pandas as pd\n",
    "import numpy as np\n",
    "import matplotlib.pyplot as plt\n",
    "import seaborn as sns"
   ]
  },
  {
   "cell_type": "code",
   "execution_count": null,
   "metadata": {},
   "outputs": [],
   "source": [
    "data = pd.read_csv('./FakeNamesUK4.csv', sep=',')"
   ]
  },
  {
   "cell_type": "code",
   "execution_count": null,
   "metadata": {},
   "outputs": [],
   "source": [
    "data.columns"
   ]
  },
  {
   "cell_type": "code",
   "execution_count": null,
   "metadata": {},
   "outputs": [],
   "source": [
    "col = ['Number', 'Gender', 'Title', 'Name', 'Surname', 'Address','ZipCode', 'EmailAddress', 'Username', 'Password',\n",
    "       'Birthday', 'CCType', 'CCNumber', 'CVV2', 'CCExpires', 'BloodType',\n",
    "       'Kilograms', 'Centimeters','City',\n",
    "       'Country',]"
   ]
  },
  {
   "cell_type": "code",
   "execution_count": null,
   "metadata": {},
   "outputs": [],
   "source": [
    "data.columns = col"
   ]
  },
  {
   "cell_type": "code",
   "execution_count": null,
   "metadata": {},
   "outputs": [],
   "source": [
    "del data['City']\n",
    "del data['Country']"
   ]
  },
  {
   "cell_type": "code",
   "execution_count": null,
   "metadata": {},
   "outputs": [],
   "source": [
    "data"
   ]
  },
  {
   "cell_type": "markdown",
   "metadata": {},
   "source": [
    "Joining the Respective Names columns for effective analysis than working with the names seperately"
   ]
  },
  {
   "cell_type": "code",
   "execution_count": null,
   "metadata": {},
   "outputs": [],
   "source": [
    "data['Name'] = data['Name']+' '+data['Surname']"
   ]
  },
  {
   "cell_type": "code",
   "execution_count": null,
   "metadata": {},
   "outputs": [],
   "source": [
    "del data['Surname']"
   ]
  },
  {
   "cell_type": "code",
   "execution_count": null,
   "metadata": {},
   "outputs": [],
   "source": [
    "data"
   ]
  },
  {
   "cell_type": "code",
   "execution_count": null,
   "metadata": {},
   "outputs": [],
   "source": [
    "data.to_csv('./Fakenames_refined.csv',index=None)"
   ]
  },
  {
   "cell_type": "markdown",
   "metadata": {},
   "source": [
    "Converting the columns to their neccessary dtype"
   ]
  },
  {
   "cell_type": "code",
   "execution_count": null,
   "metadata": {},
   "outputs": [],
   "source": [
    "data.info()"
   ]
  },
  {
   "cell_type": "code",
   "execution_count": null,
   "metadata": {},
   "outputs": [],
   "source": [
    "data['Birthday'] = pd.to_datetime(data['Birthday'])"
   ]
  },
  {
   "cell_type": "code",
   "execution_count": null,
   "metadata": {},
   "outputs": [],
   "source": [
    "data.loc[data['Birthday'] == 'Homplever', ['Address']]"
   ]
  },
  {
   "cell_type": "code",
   "execution_count": null,
   "metadata": {},
   "outputs": [],
   "source": [
    "y = data['Address'].iloc[69]\n",
    "y"
   ]
  },
  {
   "cell_type": "code",
   "execution_count": null,
   "metadata": {},
   "outputs": [],
   "source": [
    "p = '70,male,Mr.,Hui Yuan,61 Ermin Street, WYKEHAM, UK ,YO17 9YT,HuiYuan@teleworm.us,Drues1947,FuiN0quah,11/17/1947,MasterCard,5126644024838933,223,6/2019,O+,119,177'"
   ]
  },
  {
   "cell_type": "code",
   "execution_count": null,
   "metadata": {},
   "outputs": [],
   "source": [
    "data.loc[(data['Name'] == name)&(data['Birthday'] == 'Homplever'), ['Number']] = 71\n",
    "data.loc[(data['Name'] == name)&(data['Birthday'] == 'Homplever'), ['Gender']] = 'female'\n",
    "data.loc[(data['Name'] == name)&(data['Birthday'] == 'Homplever'), ['Title']] = 'Mrs.'\n",
    "data.loc[(data['Name'] == 'Hui Yuan')&(data['Birthday'] == 'Homplever'), ['Name']] = name\n",
    "data.loc[(data['Name'] == name)&(data['Birthday'] == 'Homplever'), ['Address']] = y.split(',')[-1]+', '+'SOUTH WOOTTON, UK'\n",
    "data.loc[(data['Name'] == name), ['ZipCode']] = 'PE30 1WD'\n",
    "data.loc[(data['Name'] == name), ['EmailAddress']] = 'LuciaAlekseyeva@armyspy.com'\n",
    "data.loc[(data['Name'] == name), ['Username']] = 'Homplever'\n",
    "data.loc[(data['Name'] == name), ['Password']] = 'Eicie2phie'\n",
    "data.loc[(data['Name'] == name), ['Birthday']] = '5/31/1939'\n",
    "data.loc[(data['Name'] == name), ['CCType']] = 'MasterCard'\n",
    "data.loc[(data['Name'] == name), ['CCNumber']] = '552061072105673'\n",
    "data.loc[(data['Name'] == name), ['CVV2']] = '351'\n",
    "data.loc[(data['Name'] == name), ['CCExpires']] = '4/2018'\n",
    "data.loc[(data['Name'] == name), ['BloodType']] = 'O+'\n",
    "data.loc[(data['Name'] == name), ['Kilograms']] = '69.6'\n",
    "data.loc[(data['Name'] == name), ['Centimeters']] = '153'"
   ]
  },
  {
   "cell_type": "code",
   "execution_count": null,
   "metadata": {},
   "outputs": [],
   "source": [
    "data = data.append({'Number':p.split(',')[0],\n",
    "'Gender':p.split(',')[1],\n",
    "'Title' : p.split(',')[2],\n",
    "'Name' : p.split(',')[3],\n",
    "'Address' : p.split(',')[4],\n",
    "'ZipCode' : p.split(',')[6]+', '+p.split(',')[7],\n",
    "'EmailAddress' : p.split(',')[8],\n",
    "'Username' : p.split(',')[9],\n",
    "'Password' : p.split(',')[10],\n",
    "'Birthday' : p.split(',')[11],\n",
    "'CCType' : p.split(',')[12],\n",
    "'CCNumber' : p.split(',')[13],\n",
    "'CVV2': p.split(',')[14],\n",
    "'CCExpires' : p.split(',')[15],\n",
    "'BloodType' : p.split(',')[16],\n",
    "'Kilograms' : p.split(',')[17],\n",
    "'Centimeters' : p.split(',')[18]}, ignore_index=True)"
   ]
  },
  {
   "cell_type": "code",
   "execution_count": null,
   "metadata": {},
   "outputs": [],
   "source": [
    "data.columns"
   ]
  },
  {
   "cell_type": "code",
   "execution_count": null,
   "metadata": {},
   "outputs": [],
   "source": [
    "data.info()"
   ]
  },
  {
   "cell_type": "code",
   "execution_count": null,
   "metadata": {},
   "outputs": [],
   "source": [
    "data[data.isna().any(axis=1)]"
   ]
  },
  {
   "cell_type": "code",
   "execution_count": null,
   "metadata": {},
   "outputs": [],
   "source": [
    "data[data.isna().any(axis=1)]"
   ]
  },
  {
   "cell_type": "code",
   "execution_count": null,
   "metadata": {},
   "outputs": [],
   "source": [
    "data[data['Number'] == 2639]"
   ]
  },
  {
   "cell_type": "code",
   "execution_count": null,
   "metadata": {},
   "outputs": [],
   "source": [
    "data[data['Centimeters'] == 'female']"
   ]
  },
  {
   "cell_type": "code",
   "execution_count": null,
   "metadata": {},
   "outputs": [],
   "source": [
    "data.iloc[2623]"
   ]
  },
  {
   "cell_type": "code",
   "execution_count": null,
   "metadata": {},
   "outputs": [],
   "source": [
    "data = data.dropna()"
   ]
  },
  {
   "cell_type": "code",
   "execution_count": null,
   "metadata": {},
   "outputs": [],
   "source": [
    "data = data.reindex(range(0,len(data)))"
   ]
  },
  {
   "cell_type": "code",
   "execution_count": null,
   "metadata": {},
   "outputs": [],
   "source": [
    "data = data.dropna()"
   ]
  },
  {
   "cell_type": "code",
   "execution_count": null,
   "metadata": {},
   "outputs": [],
   "source": [
    "data"
   ]
  },
  {
   "cell_type": "code",
   "execution_count": null,
   "metadata": {},
   "outputs": [],
   "source": [
    "data.loc[data['Name'] == 'Dewei Tuan']"
   ]
  },
  {
   "cell_type": "code",
   "execution_count": null,
   "metadata": {},
   "outputs": [],
   "source": [
    "data.loc[data['Centimeters'] == 'female', ['Centimeters']] = ' '"
   ]
  },
  {
   "cell_type": "code",
   "execution_count": null,
   "metadata": {},
   "outputs": [],
   "source": [
    "data.loc[data['Centimeters'] == ' ',['Centimeters']] = np.nan"
   ]
  },
  {
   "cell_type": "code",
   "execution_count": null,
   "metadata": {},
   "outputs": [],
   "source": [
    "data.loc[data['BloodType'] == 'Greta']"
   ]
  },
  {
   "cell_type": "code",
   "execution_count": null,
   "metadata": {},
   "outputs": [],
   "source": [
    "data = data.dropna()"
   ]
  },
  {
   "cell_type": "code",
   "execution_count": null,
   "metadata": {},
   "outputs": [],
   "source": [
    "data.loc[data['Centimeters'] == '#REF!']"
   ]
  },
  {
   "cell_type": "code",
   "execution_count": null,
   "metadata": {},
   "outputs": [],
   "source": [
    "data.loc[data['Centimeters'] == '#REF!', ['Birthday']] = 3/29/1986\n",
    "data.loc[data['Centimeters'] == '#REF!', ['CCType']] = 'Visa'\n",
    "data.loc[data['Centimeters'] == '#REF!', ['CCNumber']] = '4532062269162987'\n",
    "data.loc[data['Centimeters'] == '#REF!', ['CVV2']] = 707\n",
    "data.loc[data['Centimeters'] == '#REF!', ['CCExpires']] = '6/2020'\n",
    "data.loc[data['Centimeters'] == '#REF!', ['BloodType']] = 'O+'\n",
    "data.loc[data['Centimeters'] == '#REF!', ['Kilograms']] = 101.3\n",
    "data.loc[data['Centimeters'] == '#REF!', ['Centimeters']] = 182"
   ]
  },
  {
   "cell_type": "code",
   "execution_count": null,
   "metadata": {},
   "outputs": [],
   "source": [
    "data.loc[data['Birthday'] == '3/29/1986']"
   ]
  },
  {
   "cell_type": "code",
   "execution_count": null,
   "metadata": {},
   "outputs": [],
   "source": [
    "data.loc[data['Centimeters'] == 'A+']"
   ]
  },
  {
   "cell_type": "code",
   "execution_count": null,
   "metadata": {},
   "outputs": [],
   "source": [
    "data.loc[data['Centimeters'] == 'A+', ['EmailAddress']] = 'EthanGould@gustr.com'\n",
    "data.loc[data['Centimeters'] == 'A+', ['Username']] = 'Faid1946'\n",
    "data.loc[data['Centimeters'] == 'A+', ['Password']] = 'eiM6quaeT4'\n",
    "data.loc[data['Centimeters'] == 'A+', ['Address']] = '73 Thornton St, HUNTINGFORD, UK'\n",
    "data.loc[data['Centimeters'] == 'A+', ['ZipCode']] = 'SP8 7BZ'\n",
    "data.loc[data['Centimeters'] == 'A+', ['Birthday']] = 8/3/1946\n",
    "data.loc[data['Centimeters'] == 'A+', ['CCType']] = 'MasterCard'\n",
    "data.loc[data['Centimeters'] == 'A+', ['CCNumber']] = '5319282120541510'\n",
    "data.loc[data['Centimeters'] == 'A+', ['CVV2']] = 678\n",
    "data.loc[data['Centimeters'] == 'A+', ['CCExpires']] = '1/2017'\n",
    "data.loc[data['Centimeters'] == 'A+', ['BloodType']] = 'A+'\n",
    "data.loc[data['Centimeters'] == 'A+', ['Kilograms']] = 108.5\n",
    "data.loc[data['Centimeters'] == 'A+', ['Centimeters']] = 184"
   ]
  },
  {
   "cell_type": "code",
   "execution_count": null,
   "metadata": {},
   "outputs": [],
   "source": [
    "data =data.loc[data['Centimeters'] != 'O+']"
   ]
  },
  {
   "cell_type": "code",
   "execution_count": null,
   "metadata": {},
   "outputs": [],
   "source": [
    "data['Centimeters'] = pd.to_numeric(data['Centimeters'])"
   ]
  },
  {
   "cell_type": "code",
   "execution_count": null,
   "metadata": {},
   "outputs": [],
   "source": [
    "data.loc[data['Kilograms'] == '#REF!',['Kilograms']] = 0"
   ]
  },
  {
   "cell_type": "code",
   "execution_count": null,
   "metadata": {},
   "outputs": [],
   "source": [
    "data = data.loc[data['Kilograms'] != 'A-']"
   ]
  },
  {
   "cell_type": "code",
   "execution_count": null,
   "metadata": {},
   "outputs": [],
   "source": [
    "data['Kilograms'] = pd.to_numeric(data['Kilograms'])"
   ]
  },
  {
   "cell_type": "code",
   "execution_count": null,
   "metadata": {},
   "outputs": [],
   "source": [
    "data['Birthday'] = pd.to_datetime(data['Birthday'])"
   ]
  },
  {
   "cell_type": "code",
   "execution_count": null,
   "metadata": {},
   "outputs": [],
   "source": [
    "data['CCExpires'] = pd.to_datetime(data['CCExpires'])"
   ]
  },
  {
   "cell_type": "code",
   "execution_count": null,
   "metadata": {},
   "outputs": [],
   "source": [
    "data['CCNumber'] = pd.to_numeric(data['CCNumber'])"
   ]
  },
  {
   "cell_type": "code",
   "execution_count": null,
   "metadata": {},
   "outputs": [],
   "source": [
    "data['CCExpires'] = pd.to_datetime(data['CCExpires'])"
   ]
  },
  {
   "cell_type": "code",
   "execution_count": null,
   "metadata": {},
   "outputs": [],
   "source": [
    "data['CVV2'] = pd.to_numeric(data['CVV2'])"
   ]
  },
  {
   "cell_type": "code",
   "execution_count": null,
   "metadata": {},
   "outputs": [],
   "source": []
  },
  {
   "cell_type": "code",
   "execution_count": null,
   "metadata": {},
   "outputs": [],
   "source": [
    "data.to_csv('./Fakenames_refined.csv', index=False)"
   ]
  },
  {
   "cell_type": "code",
   "execution_count": null,
   "metadata": {},
   "outputs": [],
   "source": [
    "data.info()"
   ]
  },
  {
   "cell_type": "code",
   "execution_count": null,
   "metadata": {},
   "outputs": [],
   "source": []
  },
  {
   "cell_type": "code",
   "execution_count": null,
   "metadata": {},
   "outputs": [],
   "source": []
  },
  {
   "cell_type": "code",
   "execution_count": null,
   "metadata": {},
   "outputs": [],
   "source": []
  },
  {
   "cell_type": "code",
   "execution_count": null,
   "metadata": {},
   "outputs": [],
   "source": []
  },
  {
   "cell_type": "code",
   "execution_count": null,
   "metadata": {},
   "outputs": [],
   "source": []
  },
  {
   "cell_type": "code",
   "execution_count": null,
   "metadata": {},
   "outputs": [],
   "source": []
  },
  {
   "cell_type": "markdown",
   "metadata": {},
   "source": [
    "EAD"
   ]
  },
  {
   "cell_type": "markdown",
   "metadata": {},
   "source": [
    "QUESTION 1 --> 3. Find the similarities and differences of the patients' gender based on their BMI. Test for the assumptions and use the right statistical tool."
   ]
  },
  {
   "cell_type": "markdown",
   "metadata": {},
   "source": [
    "Converting Centimeter to meters"
   ]
  },
  {
   "cell_type": "code",
   "execution_count": 330,
   "metadata": {},
   "outputs": [
    {
     "name": "stderr",
     "output_type": "stream",
     "text": [
      "c:\\program files\\python36\\lib\\site-packages\\ipykernel_launcher.py:1: SettingWithCopyWarning: \n",
      "A value is trying to be set on a copy of a slice from a DataFrame.\n",
      "Try using .loc[row_indexer,col_indexer] = value instead\n",
      "\n",
      "See the caveats in the documentation: https://pandas.pydata.org/pandas-docs/stable/user_guide/indexing.html#returning-a-view-versus-a-copy\n",
      "  \"\"\"Entry point for launching an IPython kernel.\n"
     ]
    }
   ],
   "source": [
    "data['meters'] = data['Centimeters'] / 100"
   ]
  },
  {
   "cell_type": "code",
   "execution_count": null,
   "metadata": {},
   "outputs": [],
   "source": [
    "data['BMI'] = round(data['Kilograms']/data['meters']**2,1)"
   ]
  },
  {
   "cell_type": "code",
   "execution_count": null,
   "metadata": {},
   "outputs": [],
   "source": [
    "data['Age'] = 2020 - data['Birthday'].dt.year"
   ]
  },
  {
   "cell_type": "code",
   "execution_count": null,
   "metadata": {},
   "outputs": [],
   "source": [
    "age_ = data.groupby('Age').mean()\n",
    "age_"
   ]
  },
  {
   "cell_type": "code",
   "execution_count": null,
   "metadata": {},
   "outputs": [],
   "source": [
    "with plt.style.context('ggplot'):\n",
    "    fig, ax = plt.subplots(figsize=(10,5))\n",
    "    ax.bar(age_.index,age_['BMI'], color='green')\n",
    "    ax.set_xlabel('Age')\n",
    "    ax.set_ylabel('Body Mass Index(BMI)')"
   ]
  },
  {
   "cell_type": "code",
   "execution_count": null,
   "metadata": {},
   "outputs": [],
   "source": [
    "data"
   ]
  },
  {
   "cell_type": "code",
   "execution_count": null,
   "metadata": {},
   "outputs": [],
   "source": [
    "#Checking for normality using kdeplot\n",
    "#Data have a lump around the 0 BMI\n",
    "sns.kdeplot(data['BMI'], shade=True)\n",
    "plt.xlabel('Body Mass Index')\n",
    "plt.ylabel('Probability Density')\n",
    "plt.show()"
   ]
  },
  {
   "cell_type": "code",
   "execution_count": null,
   "metadata": {},
   "outputs": [],
   "source": []
  },
  {
   "cell_type": "markdown",
   "metadata": {},
   "source": [
    "Checking in BMI, if we have data on 0-scale"
   ]
  },
  {
   "cell_type": "code",
   "execution_count": null,
   "metadata": {},
   "outputs": [],
   "source": [
    "#7763 rows have 0-scale\n",
    "#if we fill it up with mode/mean/median\n",
    "#the rows are far too many to fill up\n",
    "#the data will be Biased\n",
    "len(data.loc[data['Kilograms'] == 0])"
   ]
  },
  {
   "cell_type": "code",
   "execution_count": null,
   "metadata": {},
   "outputs": [],
   "source": [
    "data.loc[data['Kilograms'] == 0]['Gender'].value_counts()"
   ]
  },
  {
   "cell_type": "markdown",
   "metadata": {},
   "source": [
    "Droppingn Those Data"
   ]
  },
  {
   "cell_type": "code",
   "execution_count": null,
   "metadata": {},
   "outputs": [],
   "source": [
    "data = data.loc[data['Kilograms'] != 0]"
   ]
  },
  {
   "cell_type": "code",
   "execution_count": null,
   "metadata": {},
   "outputs": [],
   "source": []
  },
  {
   "cell_type": "code",
   "execution_count": null,
   "metadata": {},
   "outputs": [],
   "source": [
    "sns.kdeplot(data['BMI'], shade=True, color='green')\n",
    "plt.xlabel('Body Mass Index')\n",
    "plt.ylabel('Probability Density')\n",
    "plt.show()"
   ]
  },
  {
   "cell_type": "code",
   "execution_count": null,
   "metadata": {},
   "outputs": [],
   "source": [
    "plt.hist(data['BMI'], bins=30, edgecolor='black', label='BMI')\n",
    "plt.legend()\n",
    "plt.show()"
   ]
  },
  {
   "cell_type": "markdown",
   "metadata": {},
   "source": [
    "Creating a Pivot_Table to check the similarities/difference of respective Gender based on their BMI in stages using Age"
   ]
  },
  {
   "cell_type": "code",
   "execution_count": 280,
   "metadata": {},
   "outputs": [
    {
     "data": {
      "text/html": [
       "<div>\n",
       "<style scoped>\n",
       "    .dataframe tbody tr th:only-of-type {\n",
       "        vertical-align: middle;\n",
       "    }\n",
       "\n",
       "    .dataframe tbody tr th {\n",
       "        vertical-align: top;\n",
       "    }\n",
       "\n",
       "    .dataframe thead th {\n",
       "        text-align: right;\n",
       "    }\n",
       "</style>\n",
       "<table border=\"1\" class=\"dataframe\">\n",
       "  <thead>\n",
       "    <tr style=\"text-align: right;\">\n",
       "      <th>Gender</th>\n",
       "      <th>female</th>\n",
       "      <th>male</th>\n",
       "    </tr>\n",
       "    <tr>\n",
       "      <th>Age</th>\n",
       "      <th></th>\n",
       "      <th></th>\n",
       "    </tr>\n",
       "  </thead>\n",
       "  <tbody>\n",
       "    <tr>\n",
       "      <th>24</th>\n",
       "      <td>25.429665</td>\n",
       "      <td>27.622703</td>\n",
       "    </tr>\n",
       "    <tr>\n",
       "      <th>25</th>\n",
       "      <td>25.154885</td>\n",
       "      <td>27.888498</td>\n",
       "    </tr>\n",
       "    <tr>\n",
       "      <th>26</th>\n",
       "      <td>26.100843</td>\n",
       "      <td>28.615607</td>\n",
       "    </tr>\n",
       "    <tr>\n",
       "      <th>27</th>\n",
       "      <td>26.875070</td>\n",
       "      <td>28.858074</td>\n",
       "    </tr>\n",
       "    <tr>\n",
       "      <th>28</th>\n",
       "      <td>26.631884</td>\n",
       "      <td>28.876812</td>\n",
       "    </tr>\n",
       "    <tr>\n",
       "      <th>...</th>\n",
       "      <td>...</td>\n",
       "      <td>...</td>\n",
       "    </tr>\n",
       "    <tr>\n",
       "      <th>87</th>\n",
       "      <td>28.065744</td>\n",
       "      <td>29.255589</td>\n",
       "    </tr>\n",
       "    <tr>\n",
       "      <th>88</th>\n",
       "      <td>28.190369</td>\n",
       "      <td>28.774086</td>\n",
       "    </tr>\n",
       "    <tr>\n",
       "      <th>89</th>\n",
       "      <td>28.375941</td>\n",
       "      <td>29.390137</td>\n",
       "    </tr>\n",
       "    <tr>\n",
       "      <th>90</th>\n",
       "      <td>27.988624</td>\n",
       "      <td>29.016822</td>\n",
       "    </tr>\n",
       "    <tr>\n",
       "      <th>91</th>\n",
       "      <td>27.687586</td>\n",
       "      <td>29.383398</td>\n",
       "    </tr>\n",
       "  </tbody>\n",
       "</table>\n",
       "<p>68 rows × 2 columns</p>\n",
       "</div>"
      ],
      "text/plain": [
       "Gender     female       male\n",
       "Age                         \n",
       "24      25.429665  27.622703\n",
       "25      25.154885  27.888498\n",
       "26      26.100843  28.615607\n",
       "27      26.875070  28.858074\n",
       "28      26.631884  28.876812\n",
       "..            ...        ...\n",
       "87      28.065744  29.255589\n",
       "88      28.190369  28.774086\n",
       "89      28.375941  29.390137\n",
       "90      27.988624  29.016822\n",
       "91      27.687586  29.383398\n",
       "\n",
       "[68 rows x 2 columns]"
      ]
     },
     "execution_count": 280,
     "metadata": {},
     "output_type": "execute_result"
    }
   ],
   "source": [
    "gender = data.pivot_table('BMI', index='Age', columns='Gender', aggfunc='mean')\n",
    "gender"
   ]
  },
  {
   "cell_type": "code",
   "execution_count": null,
   "metadata": {},
   "outputs": [],
   "source": []
  },
  {
   "cell_type": "markdown",
   "metadata": {},
   "source": [
    "Graphical Representation of the Result"
   ]
  },
  {
   "cell_type": "markdown",
   "metadata": {},
   "source": [
    "With this Graph, it shows that the Body Mass Index of Females\n",
    "Increases from Age 82yrs - 85yrs"
   ]
  },
  {
   "cell_type": "code",
   "execution_count": 321,
   "metadata": {},
   "outputs": [
    {
     "data": {
      "image/png": "[encoded data removed]",
      "text/plain": [
       "<Figure size 1080x504 with 1 Axes>"
      ]
     },
     "metadata": {},
     "output_type": "display_data"
    }
   ],
   "source": [
    "with plt.style.context('seaborn'):\n",
    "    gender[:20].plot(kind='barh', figsize=(15, 7), zorder=4, width=0.85)\n",
    "    plt.title('BODY MASS INDEX(BMI) OF FEMALES & MALES BASED ON AGE')\n",
    "    plt.xlabel('Body Mass Index')\n",
    "    plt.show()"
   ]
  },
  {
   "cell_type": "code",
   "execution_count": 322,
   "metadata": {},
   "outputs": [
    {
     "data": {
      "image/png": "[encoded data removed]",
      "text/plain": [
       "<Figure size 1080x504 with 1 Axes>"
      ]
     },
     "metadata": {},
     "output_type": "display_data"
    }
   ],
   "source": [
    "with plt.style.context('seaborn'):\n",
    "    gender[20:40].plot(kind='barh', figsize=(15, 7), zorder=4, width=0.85)\n",
    "    plt.title('Age 44-63')\n",
    "    plt.xlabel('Body Mass Index')\n",
    "    plt.show()"
   ]
  },
  {
   "cell_type": "code",
   "execution_count": 323,
   "metadata": {},
   "outputs": [
    {
     "data": {
      "image/png": "[encoded data removed]",
      "text/plain": [
       "<Figure size 1080x504 with 1 Axes>"
      ]
     },
     "metadata": {},
     "output_type": "display_data"
    }
   ],
   "source": [
    "with plt.style.context('seaborn'):\n",
    "    gender[40:60].plot(kind='barh', figsize=(15, 7), zorder=4, width=0.85)\n",
    "    plt.title('Age 64-83')\n",
    "    plt.xlabel('Body Mass Index')\n",
    "    plt.show()"
   ]
  },
  {
   "cell_type": "code",
   "execution_count": 324,
   "metadata": {},
   "outputs": [
    {
     "data": {
      "image/png": "[encoded data removed]",
      "text/plain": [
       "<Figure size 1080x216 with 1 Axes>"
      ]
     },
     "metadata": {},
     "output_type": "display_data"
    }
   ],
   "source": [
    "with plt.style.context('seaborn'):\n",
    "    gender[60:].plot(kind='barh', figsize=(15, 3), zorder=4, width=0.85)\n",
    "    plt.title('Age 84-91')\n",
    "    plt.xlabel('Body Mass Index')\n",
    "    plt.show()"
   ]
  },
  {
   "cell_type": "code",
   "execution_count": null,
   "metadata": {},
   "outputs": [],
   "source": []
  },
  {
   "cell_type": "code",
   "execution_count": null,
   "metadata": {},
   "outputs": [],
   "source": []
  },
  {
   "cell_type": "code",
   "execution_count": null,
   "metadata": {},
   "outputs": [],
   "source": []
  },
  {
   "cell_type": "code",
   "execution_count": null,
   "metadata": {},
   "outputs": [],
   "source": []
  },
  {
   "cell_type": "code",
   "execution_count": null,
   "metadata": {},
   "outputs": [],
   "source": []
  },
  {
   "cell_type": "code",
   "execution_count": null,
   "metadata": {},
   "outputs": [],
   "source": []
  },
  {
   "cell_type": "code",
   "execution_count": 325,
   "metadata": {},
   "outputs": [
    {
     "name": "stderr",
     "output_type": "stream",
     "text": [
      "c:\\program files\\python36\\lib\\site-packages\\ipykernel_launcher.py:1: SettingWithCopyWarning: \n",
      "A value is trying to be set on a copy of a slice from a DataFrame.\n",
      "Try using .loc[row_indexer,col_indexer] = value instead\n",
      "\n",
      "See the caveats in the documentation: https://pandas.pydata.org/pandas-docs/stable/user_guide/indexing.html#returning-a-view-versus-a-copy\n",
      "  \"\"\"Entry point for launching an IPython kernel.\n"
     ]
    }
   ],
   "source": [
    "data['z_BMI'] = round((data['BMI']-data.BMI.mean())/data.BMI.std(),2)"
   ]
  },
  {
   "cell_type": "code",
   "execution_count": null,
   "metadata": {},
   "outputs": [],
   "source": []
  },
  {
   "cell_type": "code",
   "execution_count": 320,
   "metadata": {},
   "outputs": [
    {
     "data": {
      "text/html": [
       "<div>\n",
       "<style scoped>\n",
       "    .dataframe tbody tr th:only-of-type {\n",
       "        vertical-align: middle;\n",
       "    }\n",
       "\n",
       "    .dataframe tbody tr th {\n",
       "        vertical-align: top;\n",
       "    }\n",
       "\n",
       "    .dataframe thead th {\n",
       "        text-align: right;\n",
       "    }\n",
       "</style>\n",
       "<table border=\"1\" class=\"dataframe\">\n",
       "  <thead>\n",
       "    <tr style=\"text-align: right;\">\n",
       "      <th></th>\n",
       "      <th>Number</th>\n",
       "      <th>Gender</th>\n",
       "      <th>Title</th>\n",
       "      <th>Name</th>\n",
       "      <th>Address</th>\n",
       "      <th>ZipCode</th>\n",
       "      <th>EmailAddress</th>\n",
       "      <th>Username</th>\n",
       "      <th>Password</th>\n",
       "      <th>Birthday</th>\n",
       "      <th>...</th>\n",
       "      <th>CCNumber</th>\n",
       "      <th>CVV2</th>\n",
       "      <th>CCExpires</th>\n",
       "      <th>BloodType</th>\n",
       "      <th>Kilograms</th>\n",
       "      <th>Centimeters</th>\n",
       "      <th>meters</th>\n",
       "      <th>BMI</th>\n",
       "      <th>Age</th>\n",
       "      <th>z_BMI</th>\n",
       "    </tr>\n",
       "  </thead>\n",
       "  <tbody>\n",
       "    <tr>\n",
       "      <th>0</th>\n",
       "      <td>1</td>\n",
       "      <td>male</td>\n",
       "      <td>Mr.</td>\n",
       "      <td>Dewei Tuan</td>\n",
       "      <td>42 Main Rd, FOEL, UK</td>\n",
       "      <td>SY21 3FF</td>\n",
       "      <td>DeweiTuan@fleckens.hu</td>\n",
       "      <td>Piten1973</td>\n",
       "      <td>ohSooZ2d</td>\n",
       "      <td>1973-07-31</td>\n",
       "      <td>...</td>\n",
       "      <td>5371472825372403</td>\n",
       "      <td>919.0</td>\n",
       "      <td>2019-09-01</td>\n",
       "      <td>B+</td>\n",
       "      <td>89.6</td>\n",
       "      <td>183.0</td>\n",
       "      <td>1.83</td>\n",
       "      <td>26.8</td>\n",
       "      <td>47</td>\n",
       "      <td>-0.41</td>\n",
       "    </tr>\n",
       "    <tr>\n",
       "      <th>1</th>\n",
       "      <td>2</td>\n",
       "      <td>female</td>\n",
       "      <td>Ms.</td>\n",
       "      <td>Natasha Watts</td>\n",
       "      <td>46 Coast Rd, KIRKPATRICK-FLEMING, UK</td>\n",
       "      <td>DG11 2HN</td>\n",
       "      <td>NatashaWatts@jourrapide.com</td>\n",
       "      <td>Fultank</td>\n",
       "      <td>Neey0ko8</td>\n",
       "      <td>1934-10-30</td>\n",
       "      <td>...</td>\n",
       "      <td>4716753125322116</td>\n",
       "      <td>677.0</td>\n",
       "      <td>2017-03-01</td>\n",
       "      <td>B+</td>\n",
       "      <td>52.4</td>\n",
       "      <td>170.0</td>\n",
       "      <td>1.70</td>\n",
       "      <td>18.1</td>\n",
       "      <td>86</td>\n",
       "      <td>-1.80</td>\n",
       "    </tr>\n",
       "    <tr>\n",
       "      <th>2</th>\n",
       "      <td>3</td>\n",
       "      <td>female</td>\n",
       "      <td>Mrs.</td>\n",
       "      <td>Qing Yuan Ch'ien</td>\n",
       "      <td>3 Friar Street, CLAWDD-NEWYDD, UK</td>\n",
       "      <td>LL15 0SQ</td>\n",
       "      <td>QingYuanChien@rhyta.com</td>\n",
       "      <td>Diater</td>\n",
       "      <td>Iemah8too</td>\n",
       "      <td>1981-06-08</td>\n",
       "      <td>...</td>\n",
       "      <td>4485122099933788</td>\n",
       "      <td>895.0</td>\n",
       "      <td>2016-05-01</td>\n",
       "      <td>AB+</td>\n",
       "      <td>91.0</td>\n",
       "      <td>158.0</td>\n",
       "      <td>1.58</td>\n",
       "      <td>36.5</td>\n",
       "      <td>39</td>\n",
       "      <td>1.14</td>\n",
       "    </tr>\n",
       "    <tr>\n",
       "      <th>3</th>\n",
       "      <td>4</td>\n",
       "      <td>male</td>\n",
       "      <td>Mr.</td>\n",
       "      <td>Nathan Bykov</td>\n",
       "      <td>79 Abbey Row, NORTON BRIDGE, UK</td>\n",
       "      <td>ST15 3JF</td>\n",
       "      <td>NathanBykov@einrot.com</td>\n",
       "      <td>Cougge</td>\n",
       "      <td>cieMa8chai8!</td>\n",
       "      <td>1979-10-23</td>\n",
       "      <td>...</td>\n",
       "      <td>4532644318841479</td>\n",
       "      <td>295.0</td>\n",
       "      <td>2018-05-01</td>\n",
       "      <td>O+</td>\n",
       "      <td>110.4</td>\n",
       "      <td>187.0</td>\n",
       "      <td>1.87</td>\n",
       "      <td>31.6</td>\n",
       "      <td>41</td>\n",
       "      <td>0.36</td>\n",
       "    </tr>\n",
       "    <tr>\n",
       "      <th>4</th>\n",
       "      <td>5</td>\n",
       "      <td>female</td>\n",
       "      <td>Mrs.</td>\n",
       "      <td>Hua Han</td>\n",
       "      <td>37 Shire Oak Road, SAXTHORPE, UK</td>\n",
       "      <td>NR11 4WE</td>\n",
       "      <td>HuaHan@superrito.com</td>\n",
       "      <td>Priese</td>\n",
       "      <td>ad6ir0Leich</td>\n",
       "      <td>1943-12-19</td>\n",
       "      <td>...</td>\n",
       "      <td>4485599386962523</td>\n",
       "      <td>711.0</td>\n",
       "      <td>2017-03-01</td>\n",
       "      <td>B+</td>\n",
       "      <td>84.1</td>\n",
       "      <td>155.0</td>\n",
       "      <td>1.55</td>\n",
       "      <td>35.0</td>\n",
       "      <td>77</td>\n",
       "      <td>0.90</td>\n",
       "    </tr>\n",
       "    <tr>\n",
       "      <th>...</th>\n",
       "      <td>...</td>\n",
       "      <td>...</td>\n",
       "      <td>...</td>\n",
       "      <td>...</td>\n",
       "      <td>...</td>\n",
       "      <td>...</td>\n",
       "      <td>...</td>\n",
       "      <td>...</td>\n",
       "      <td>...</td>\n",
       "      <td>...</td>\n",
       "      <td>...</td>\n",
       "      <td>...</td>\n",
       "      <td>...</td>\n",
       "      <td>...</td>\n",
       "      <td>...</td>\n",
       "      <td>...</td>\n",
       "      <td>...</td>\n",
       "      <td>...</td>\n",
       "      <td>...</td>\n",
       "      <td>...</td>\n",
       "      <td>...</td>\n",
       "    </tr>\n",
       "    <tr>\n",
       "      <th>98523</th>\n",
       "      <td>98528</td>\n",
       "      <td>female</td>\n",
       "      <td>Ms.</td>\n",
       "      <td>Melissa Bibi</td>\n",
       "      <td>34 Russell Rd, SHIREBROOK, UK</td>\n",
       "      <td>NG20 5HG</td>\n",
       "      <td>MelissaBibi@jourrapide.com</td>\n",
       "      <td>Aninge</td>\n",
       "      <td>Uv1sah5OhG</td>\n",
       "      <td>1966-12-29</td>\n",
       "      <td>...</td>\n",
       "      <td>5250761873894771</td>\n",
       "      <td>867.0</td>\n",
       "      <td>2018-07-01</td>\n",
       "      <td>A+</td>\n",
       "      <td>67.5</td>\n",
       "      <td>167.0</td>\n",
       "      <td>1.67</td>\n",
       "      <td>24.2</td>\n",
       "      <td>54</td>\n",
       "      <td>-0.82</td>\n",
       "    </tr>\n",
       "    <tr>\n",
       "      <th>98524</th>\n",
       "      <td>98529</td>\n",
       "      <td>male</td>\n",
       "      <td>Mr.</td>\n",
       "      <td>Chung Ni</td>\n",
       "      <td>9 West Lane, DALGINROSS, UK</td>\n",
       "      <td>PH6 9NX</td>\n",
       "      <td>ChungNi@armyspy.com</td>\n",
       "      <td>Wittaloo</td>\n",
       "      <td>chohmi9Phe1</td>\n",
       "      <td>1931-01-07</td>\n",
       "      <td>...</td>\n",
       "      <td>4916431732987435</td>\n",
       "      <td>353.0</td>\n",
       "      <td>2019-09-01</td>\n",
       "      <td>O+</td>\n",
       "      <td>99.9</td>\n",
       "      <td>165.0</td>\n",
       "      <td>1.65</td>\n",
       "      <td>36.7</td>\n",
       "      <td>89</td>\n",
       "      <td>1.18</td>\n",
       "    </tr>\n",
       "    <tr>\n",
       "      <th>98525</th>\n",
       "      <td>98530</td>\n",
       "      <td>female</td>\n",
       "      <td>Ms.</td>\n",
       "      <td>Eloise Metcalfe</td>\n",
       "      <td>67 Circle Way, CADLE, UK</td>\n",
       "      <td>SA5 7AD</td>\n",
       "      <td>EloiseMetcalfe@einrot.com</td>\n",
       "      <td>Trone1943</td>\n",
       "      <td>Xeiyai3ohY2Oo</td>\n",
       "      <td>1943-06-30</td>\n",
       "      <td>...</td>\n",
       "      <td>4556853151023662</td>\n",
       "      <td>276.0</td>\n",
       "      <td>2019-12-01</td>\n",
       "      <td>O+</td>\n",
       "      <td>91.8</td>\n",
       "      <td>170.0</td>\n",
       "      <td>1.70</td>\n",
       "      <td>31.8</td>\n",
       "      <td>77</td>\n",
       "      <td>0.39</td>\n",
       "    </tr>\n",
       "    <tr>\n",
       "      <th>98526</th>\n",
       "      <td>98531</td>\n",
       "      <td>male</td>\n",
       "      <td>Mr.</td>\n",
       "      <td>Jack Bentley</td>\n",
       "      <td>69 Station Rd, PWLLMEYRIC, UK</td>\n",
       "      <td>NP6 4GD</td>\n",
       "      <td>JackBentley@rhyta.com</td>\n",
       "      <td>Gattim</td>\n",
       "      <td>Tie0uo6qu!</td>\n",
       "      <td>1994-10-30</td>\n",
       "      <td>...</td>\n",
       "      <td>5251341939621853</td>\n",
       "      <td>739.0</td>\n",
       "      <td>2020-07-01</td>\n",
       "      <td>O+</td>\n",
       "      <td>99.5</td>\n",
       "      <td>177.0</td>\n",
       "      <td>1.77</td>\n",
       "      <td>31.8</td>\n",
       "      <td>26</td>\n",
       "      <td>0.39</td>\n",
       "    </tr>\n",
       "    <tr>\n",
       "      <th>98527</th>\n",
       "      <td>98532</td>\n",
       "      <td>male</td>\n",
       "      <td>Mr.</td>\n",
       "      <td>Chung Hou</td>\n",
       "      <td>29 Dunmow Road, GRESSENHALL, UK</td>\n",
       "      <td>NR20 6LA</td>\n",
       "      <td>ChungHou@dayrep.com</td>\n",
       "      <td>Whiond</td>\n",
       "      <td>ooD1Oocoo</td>\n",
       "      <td>1941-11-01</td>\n",
       "      <td>...</td>\n",
       "      <td>5262257185515051</td>\n",
       "      <td>139.0</td>\n",
       "      <td>2016-09-01</td>\n",
       "      <td>A+</td>\n",
       "      <td>70.4</td>\n",
       "      <td>166.0</td>\n",
       "      <td>1.66</td>\n",
       "      <td>25.5</td>\n",
       "      <td>79</td>\n",
       "      <td>-0.61</td>\n",
       "    </tr>\n",
       "  </tbody>\n",
       "</table>\n",
       "<p>89296 rows × 21 columns</p>\n",
       "</div>"
      ],
      "text/plain": [
       "      Number  Gender Title              Name  \\\n",
       "0          1    male   Mr.        Dewei Tuan   \n",
       "1          2  female   Ms.     Natasha Watts   \n",
       "2          3  female  Mrs.  Qing Yuan Ch'ien   \n",
       "3          4    male   Mr.      Nathan Bykov   \n",
       "4          5  female  Mrs.           Hua Han   \n",
       "...      ...     ...   ...               ...   \n",
       "98523  98528  female   Ms.      Melissa Bibi   \n",
       "98524  98529    male   Mr.          Chung Ni   \n",
       "98525  98530  female   Ms.   Eloise Metcalfe   \n",
       "98526  98531    male   Mr.      Jack Bentley   \n",
       "98527  98532    male   Mr.         Chung Hou   \n",
       "\n",
       "                                     Address   ZipCode  \\\n",
       "0                      42 Main Rd, FOEL, UK   SY21 3FF   \n",
       "1      46 Coast Rd, KIRKPATRICK-FLEMING, UK   DG11 2HN   \n",
       "2         3 Friar Street, CLAWDD-NEWYDD, UK   LL15 0SQ   \n",
       "3           79 Abbey Row, NORTON BRIDGE, UK   ST15 3JF   \n",
       "4          37 Shire Oak Road, SAXTHORPE, UK   NR11 4WE   \n",
       "...                                      ...       ...   \n",
       "98523         34 Russell Rd, SHIREBROOK, UK   NG20 5HG   \n",
       "98524           9 West Lane, DALGINROSS, UK    PH6 9NX   \n",
       "98525              67 Circle Way, CADLE, UK    SA5 7AD   \n",
       "98526         69 Station Rd, PWLLMEYRIC, UK    NP6 4GD   \n",
       "98527       29 Dunmow Road, GRESSENHALL, UK   NR20 6LA   \n",
       "\n",
       "                      EmailAddress   Username       Password   Birthday  ...  \\\n",
       "0            DeweiTuan@fleckens.hu  Piten1973       ohSooZ2d 1973-07-31  ...   \n",
       "1      NatashaWatts@jourrapide.com    Fultank       Neey0ko8 1934-10-30  ...   \n",
       "2          QingYuanChien@rhyta.com     Diater      Iemah8too 1981-06-08  ...   \n",
       "3           NathanBykov@einrot.com     Cougge   cieMa8chai8! 1979-10-23  ...   \n",
       "4             HuaHan@superrito.com     Priese    ad6ir0Leich 1943-12-19  ...   \n",
       "...                            ...        ...            ...        ...  ...   \n",
       "98523   MelissaBibi@jourrapide.com     Aninge     Uv1sah5OhG 1966-12-29  ...   \n",
       "98524          ChungNi@armyspy.com   Wittaloo    chohmi9Phe1 1931-01-07  ...   \n",
       "98525    EloiseMetcalfe@einrot.com  Trone1943  Xeiyai3ohY2Oo 1943-06-30  ...   \n",
       "98526        JackBentley@rhyta.com     Gattim     Tie0uo6qu! 1994-10-30  ...   \n",
       "98527          ChungHou@dayrep.com     Whiond      ooD1Oocoo 1941-11-01  ...   \n",
       "\n",
       "               CCNumber   CVV2  CCExpires BloodType Kilograms  Centimeters  \\\n",
       "0      5371472825372403  919.0 2019-09-01        B+      89.6        183.0   \n",
       "1      4716753125322116  677.0 2017-03-01        B+      52.4        170.0   \n",
       "2      4485122099933788  895.0 2016-05-01       AB+      91.0        158.0   \n",
       "3      4532644318841479  295.0 2018-05-01        O+     110.4        187.0   \n",
       "4      4485599386962523  711.0 2017-03-01        B+      84.1        155.0   \n",
       "...                 ...    ...        ...       ...       ...          ...   \n",
       "98523  5250761873894771  867.0 2018-07-01        A+      67.5        167.0   \n",
       "98524  4916431732987435  353.0 2019-09-01        O+      99.9        165.0   \n",
       "98525  4556853151023662  276.0 2019-12-01        O+      91.8        170.0   \n",
       "98526  5251341939621853  739.0 2020-07-01        O+      99.5        177.0   \n",
       "98527  5262257185515051  139.0 2016-09-01        A+      70.4        166.0   \n",
       "\n",
       "       meters   BMI  Age  z_BMI  \n",
       "0        1.83  26.8   47  -0.41  \n",
       "1        1.70  18.1   86  -1.80  \n",
       "2        1.58  36.5   39   1.14  \n",
       "3        1.87  31.6   41   0.36  \n",
       "4        1.55  35.0   77   0.90  \n",
       "...       ...   ...  ...    ...  \n",
       "98523    1.67  24.2   54  -0.82  \n",
       "98524    1.65  36.7   89   1.18  \n",
       "98525    1.70  31.8   77   0.39  \n",
       "98526    1.77  31.8   26   0.39  \n",
       "98527    1.66  25.5   79  -0.61  \n",
       "\n",
       "[89296 rows x 21 columns]"
      ]
     },
     "execution_count": 320,
     "metadata": {},
     "output_type": "execute_result"
    }
   ],
   "source": [
    "data"
   ]
  },
  {
   "cell_type": "code",
   "execution_count": 356,
   "metadata": {},
   "outputs": [
    {
     "data": {
      "text/plain": [
       "2.97"
      ]
     },
     "execution_count": 356,
     "metadata": {},
     "output_type": "execute_result"
    }
   ],
   "source": [
    "np.round(stats.zscore(female.BMI),2).max()"
   ]
  },
  {
   "cell_type": "code",
   "execution_count": 357,
   "metadata": {},
   "outputs": [
    {
     "data": {
      "text/plain": [
       "2.97"
      ]
     },
     "execution_count": 357,
     "metadata": {},
     "output_type": "execute_result"
    }
   ],
   "source": [
    "female.z_BMI.max()"
   ]
  },
  {
   "cell_type": "markdown",
   "metadata": {},
   "source": [
    "Question 3. Find the similarities and differences of the patients' gender based on their BMI. Test for the assumptions and use the right statistical tool."
   ]
  },
  {
   "cell_type": "code",
   "execution_count": 155,
   "metadata": {},
   "outputs": [],
   "source": [
    "female = data.loc[data.Gender == 'female']\n",
    "male = data.loc[data.Gender != 'female']"
   ]
  },
  {
   "cell_type": "code",
   "execution_count": null,
   "metadata": {},
   "outputs": [],
   "source": []
  },
  {
   "cell_type": "markdown",
   "metadata": {},
   "source": [
    "Using z_normal distribution to identify the similarities/difference of the genders based on Body Mass Index and \n",
    "with this graph there seem to be no similarities between the Genders based on their BMI"
   ]
  },
  {
   "cell_type": "code",
   "execution_count": 266,
   "metadata": {},
   "outputs": [
    {
     "data": {
      "image/png": "[encoded data removed]",
      "text/plain": [
       "<Figure size 576x396 with 1 Axes>"
      ]
     },
     "metadata": {},
     "output_type": "display_data"
    }
   ],
   "source": [
    "with plt.style.context('seaborn'):\n",
    "    sns.kdeplot(female['z_BMI'], shade=True, label='Female')\n",
    "    sns.kdeplot(male['z_BMI'], shade=True, label='Male')\n",
    "    plt.legend()"
   ]
  },
  {
   "cell_type": "code",
   "execution_count": 436,
   "metadata": {},
   "outputs": [],
   "source": [
    "from scipy import stats"
   ]
  },
  {
   "cell_type": "code",
   "execution_count": 458,
   "metadata": {},
   "outputs": [],
   "source": [
    "total = [female['BMI'].value_counts().index],[male['BMI'].value_counts().index]"
   ]
  },
  {
   "cell_type": "code",
   "execution_count": null,
   "metadata": {},
   "outputs": [],
   "source": []
  },
  {
   "cell_type": "code",
   "execution_count": null,
   "metadata": {},
   "outputs": [],
   "source": []
  },
  {
   "cell_type": "code",
   "execution_count": null,
   "metadata": {},
   "outputs": [],
   "source": []
  },
  {
   "cell_type": "code",
   "execution_count": 461,
   "metadata": {},
   "outputs": [
    {
     "data": {
      "text/plain": [
       "DescribeResult(nobs=48059, minmax=(14.9, 47.9), mean=28.84344035456418, variance=41.03371175604013, skewness=0.18231880805158696, kurtosis=-0.8236673419549727)"
      ]
     },
     "execution_count": 461,
     "metadata": {},
     "output_type": "execute_result"
    }
   ],
   "source": [
    "stats.describe(female['BMI'])"
   ]
  },
  {
   "cell_type": "code",
   "execution_count": 462,
   "metadata": {},
   "outputs": [
    {
     "data": {
      "text/plain": [
       "DescribeResult(nobs=41237, minmax=(15.2, 49.2), mean=29.919324878143414, variance=36.29571757698631, skewness=0.25397659112760373, kurtosis=-0.42347464440218197)"
      ]
     },
     "execution_count": 462,
     "metadata": {},
     "output_type": "execute_result"
    }
   ],
   "source": [
    "stats.describe(male['BMI'])"
   ]
  },
  {
   "cell_type": "code",
   "execution_count": null,
   "metadata": {},
   "outputs": [],
   "source": []
  },
  {
   "cell_type": "code",
   "execution_count": null,
   "metadata": {},
   "outputs": [],
   "source": []
  },
  {
   "cell_type": "markdown",
   "metadata": {},
   "source": [
    "Question 4. Find if there is a statistical difference between the gender and the patients' blood type."
   ]
  },
  {
   "cell_type": "markdown",
   "metadata": {},
   "source": [
    "Using the Chisquare test, there's is no difference between these genders based on Blood_Type and Graphically it shows so"
   ]
  },
  {
   "cell_type": "code",
   "execution_count": null,
   "metadata": {},
   "outputs": [],
   "source": []
  },
  {
   "cell_type": "code",
   "execution_count": 423,
   "metadata": {},
   "outputs": [
    {
     "data": {
      "text/plain": [
       "BloodType  Gender\n",
       "A+         female    12700\n",
       "           male      12746\n",
       "A-         female     1619\n",
       "           male       1707\n",
       "AB+        female     2429\n",
       "           male       2496\n",
       "AB-        female      210\n",
       "           male        236\n",
       "B+         female    10709\n",
       "           male      10896\n",
       "B-         female      698\n",
       "           male        702\n",
       "O+         female    17643\n",
       "           male      10203\n",
       "O-         female     2051\n",
       "           male       2251\n",
       "dtype: int64"
      ]
     },
     "execution_count": 423,
     "metadata": {},
     "output_type": "execute_result"
    }
   ],
   "source": [
    "data.groupby(['BloodType','Gender']).size()"
   ]
  },
  {
   "cell_type": "code",
   "execution_count": 424,
   "metadata": {},
   "outputs": [
    {
     "data": {
      "image/png": "[encoded data removed]",
      "text/plain": [
       "<Figure size 432x288 with 1 Axes>"
      ]
     },
     "metadata": {},
     "output_type": "display_data"
    }
   ],
   "source": [
    "with plt.style.context('ggplot'):\n",
    "    plt.hist(male.BloodType, edgecolor='black', bins=10, color='green', label='Male')\n",
    "    plt.title('Male')\n",
    "    plt.legend()\n",
    "    plt.show()"
   ]
  },
  {
   "cell_type": "code",
   "execution_count": 425,
   "metadata": {},
   "outputs": [
    {
     "data": {
      "image/png": "[encoded data removed]",
      "text/plain": [
       "<Figure size 432x288 with 1 Axes>"
      ]
     },
     "metadata": {},
     "output_type": "display_data"
    }
   ],
   "source": [
    "with plt.style.context('ggplot'):\n",
    "    plt.hist(female.BloodType, edgecolor='black', bins=10, color='pink', label='Female')\n",
    "    plt.title('Female')\n",
    "    plt.legend()\n",
    "    plt.show()"
   ]
  },
  {
   "cell_type": "code",
   "execution_count": 426,
   "metadata": {},
   "outputs": [
    {
     "data": {
      "text/plain": [
       "([array([ 2051, 10709, 17643,   698,  1619, 12700,  2429,   210],\n",
       "        dtype=int64)],\n",
       " [array([ 2251, 10896, 10203,   702,  1707, 12746,  2496,   236],\n",
       "        dtype=int64)])"
      ]
     },
     "execution_count": 426,
     "metadata": {},
     "output_type": "execute_result"
    }
   ],
   "source": [
    "womman = [female.BloodType.value_counts(sort=False).values],[male.BloodType.value_counts(sort=False).values]\n",
    "womman"
   ]
  },
  {
   "cell_type": "code",
   "execution_count": 435,
   "metadata": {},
   "outputs": [
    {
     "name": "stdout",
     "output_type": "stream",
     "text": [
      "Chi2===> 1491.1327977284252\n",
      "Pvalue==> 0.0\n"
     ]
    }
   ],
   "source": [
    "chi2, p, dof, expected = stats.chi2_contingency(womman)\n",
    "print('Chi2===>',chi2)\n",
    "print('Pvalue==>',p)"
   ]
  },
  {
   "cell_type": "code",
   "execution_count": null,
   "metadata": {},
   "outputs": [],
   "source": []
  },
  {
   "cell_type": "code",
   "execution_count": null,
   "metadata": {},
   "outputs": [],
   "source": []
  },
  {
   "cell_type": "code",
   "execution_count": null,
   "metadata": {},
   "outputs": [],
   "source": []
  },
  {
   "cell_type": "code",
   "execution_count": null,
   "metadata": {},
   "outputs": [],
   "source": []
  },
  {
   "cell_type": "markdown",
   "metadata": {},
   "source": [
    "Question 5. Find if there is a relationship between the patient's body weight and height."
   ]
  },
  {
   "cell_type": "markdown",
   "metadata": {},
   "source": [
    "Using Pearson-Correlation and Spearman-Correlation and seaborn-scatterplot \n",
    "virtually and mathematically theres no visibile relationship between weight & height"
   ]
  },
  {
   "cell_type": "code",
   "execution_count": 258,
   "metadata": {},
   "outputs": [
    {
     "data": {
      "text/plain": [
       "SpearmanrResult(correlation=0.3251517001151176, pvalue=0.0)"
      ]
     },
     "execution_count": 258,
     "metadata": {},
     "output_type": "execute_result"
    }
   ],
   "source": [
    "stats.spearmanr(data['Kilograms'], data['Centimeters'])"
   ]
  },
  {
   "cell_type": "code",
   "execution_count": 257,
   "metadata": {},
   "outputs": [
    {
     "data": {
      "text/plain": [
       "CCNumber      -0.001193\n",
       "CVV2           0.002333\n",
       "Kilograms      1.000000\n",
       "Centimeters    0.334555\n",
       "meters         0.334555\n",
       "BMI            0.860032\n",
       "Age           -0.048420\n",
       "z_BMI          0.860058\n",
       "Name: Kilograms, dtype: float64"
      ]
     },
     "execution_count": 257,
     "metadata": {},
     "output_type": "execute_result"
    }
   ],
   "source": [
    "data.corr()['Kilograms']"
   ]
  },
  {
   "cell_type": "code",
   "execution_count": 265,
   "metadata": {},
   "outputs": [
    {
     "data": {
      "image/png": "[encoded data removed]",
      "text/plain": [
       "<Figure size 576x396 with 1 Axes>"
      ]
     },
     "metadata": {},
     "output_type": "display_data"
    }
   ],
   "source": [
    "with plt.style.context('seaborn'):\n",
    "    sns.scatterplot(data['Kilograms'], data['Centimeters'])\n",
    "    plt.show()"
   ]
  },
  {
   "cell_type": "code",
   "execution_count": null,
   "metadata": {},
   "outputs": [],
   "source": []
  },
  {
   "cell_type": "code",
   "execution_count": null,
   "metadata": {},
   "outputs": [],
   "source": []
  },
  {
   "cell_type": "code",
   "execution_count": null,
   "metadata": {},
   "outputs": [],
   "source": []
  },
  {
   "cell_type": "code",
   "execution_count": null,
   "metadata": {},
   "outputs": [],
   "source": []
  },
  {
   "cell_type": "code",
   "execution_count": null,
   "metadata": {},
   "outputs": [],
   "source": [
    "data.iloc[69]"
   ]
  },
  {
   "cell_type": "code",
   "execution_count": null,
   "metadata": {},
   "outputs": [],
   "source": []
  },
  {
   "cell_type": "code",
   "execution_count": null,
   "metadata": {},
   "outputs": [],
   "source": []
  }
 ],
 "metadata": {
  "kernelspec": {
   "display_name": "Python 3",
   "language": "python",
   "name": "python3"
  },
  "language_info": {
   "codemirror_mode": {
    "name": "ipython",
    "version": 3
   },
   "file_extension": ".py",
   "mimetype": "text/x-python",
   "name": "python",
   "nbconvert_exporter": "python",
   "pygments_lexer": "ipython3",
   "version": "3.6.8"
  }
 },
 "nbformat": 4,
 "nbformat_minor": 4
}
